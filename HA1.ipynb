{
 "cells": [
  {
   "cell_type": "markdown",
   "metadata": {},
   "source": [
    "### Checklist for submission\n",
    "\n",
    "It is extremely important to make sure that:\n",
    "\n",
    "1. Everything runs as expected (no bugs when running cells);\n",
    "2. The output from each cell corresponds to its code (don't change any cell's contents without rerunning it afterwards);\n",
    "3. All outputs are present (don't delete any of the outputs);\n",
    "4. Fill in all the places that say `YOUR CODE HERE`, or \"**Your answer:** (fill in here)\".\n",
    "5. You **ONLY** change the parts of the code we asked you to, nowhere else (change only the coding parts saying `# YOUR CODE HERE`, nothing else);\n",
    "6. Don't add any new cells to this notebook;\n",
    "7. Fill in your group number and the full names of the members in the cell below;\n",
    "8. Make sure that you are not running an old version of IPython (we provide you with a cell that checks this, make sure you can run it without errors).\n",
    "\n",
    "Failing to meet any of these requirements might lead to either a subtraction of POEs (at best) or a request for resubmission (at worst).\n",
    "\n",
    "We advise you the following steps before submission for ensuring that requirements 1, 2, and 3 are always met: **Restart the kernel** (in the menubar, select Kernel$\\rightarrow$Restart) and then **run all cells** (in the menubar, select Cell$\\rightarrow$Run All). This might require a bit of time, so plan ahead for this (and possibly use Google Cloud's GPU in HA1 and HA2 for this step). Finally press the \"Save and Checkout\" button before handing in, to make sure that all your changes are saved to this .ipynb file."
   ]
  },
  {
   "cell_type": "markdown",
   "metadata": {},
   "source": [
    "---\n",
    "\n",
    "Group number and member names:"
   ]
  },
  {
   "cell_type": "code",
   "execution_count": 1,
   "metadata": {},
   "outputs": [],
   "source": [
    "GROUP = \"50\"\n",
    "NAME1 = \"Adam Tonderski\"\n",
    "NAME2 = \"Joakim Berntsson\""
   ]
  },
  {
   "cell_type": "markdown",
   "metadata": {},
   "source": [
    "Make sure you can run the following cell without errors."
   ]
  },
  {
   "cell_type": "code",
   "execution_count": 2,
   "metadata": {},
   "outputs": [],
   "source": [
    "import IPython\n",
    "assert IPython.version_info[0] >= 3, \"Your version of IPython is too old, please update it.\""
   ]
  },
  {
   "cell_type": "markdown",
   "metadata": {},
   "source": [
    "---"
   ]
  },
  {
   "cell_type": "markdown",
   "metadata": {
    "deletable": false,
    "editable": false,
    "nbgrader": {
     "checksum": "f0dd7cbad727dec0308b03071cff6d79",
     "grade": false,
     "grade_id": "cell-8092c3fd452a3245",
     "locked": true,
     "schema_version": 1,
     "solution": false
    }
   },
   "source": [
    "# HA1 - Cats and dogs"
   ]
  },
  {
   "cell_type": "markdown",
   "metadata": {
    "deletable": false,
    "editable": false,
    "nbgrader": {
     "checksum": "87ccf483a45725dd262468c44d2acbae",
     "grade": false,
     "grade_id": "cell-0235e816fc98b0f6",
     "locked": true,
     "schema_version": 1,
     "solution": false
    }
   },
   "source": [
    "<img src=\"http://lghttp.32478.nexcesscdn.net/80E972/organiclifestylemagazine/wp-content/uploads/2015/10/Cats-and-Dogs.jpg\" alt=\"Cats and dogs\" style=\"width: 5000px;\"/>"
   ]
  },
  {
   "cell_type": "markdown",
   "metadata": {
    "deletable": false,
    "editable": false,
    "nbgrader": {
     "checksum": "e42d5a9a7b415bb217a6b890b6f07c84",
     "grade": false,
     "grade_id": "cell-c4bb694612153106",
     "locked": true,
     "schema_version": 1,
     "solution": false
    }
   },
   "source": [
    "For this home assignment, we'll use the Kaggle dataset for the [Dogs vs. Cats competition](https://www.kaggle.com/c/dogs-vs-cats). It is comprised of 25k colored images of dogs and cats. Our goal with this dataset will be to create a classifier that can tell us if the input image is of a cat or a dog."
   ]
  },
  {
   "cell_type": "markdown",
   "metadata": {},
   "source": [
    "As a way of helping you speed up the training process, each group gets 6 hours of access to an instance in Google Cloud with a K80 GPU. Take a look at the [Instructions folder](https://github.com/JulianoLagana/deep-machine-learning/tree/master/Instructions) to understand how to connect to this instance and use our tools there. You're free to use this resource as you see fit, but if you run out of hours you'll need a late day to obtain more (and you can only do this once).\n",
    "\n",
    "In order to make the most out of your GPU hours, first try solving the initial part of this notebook (tasks 0-4) in your own computer (these tasks can be solved only on the CPU), and leave most of the available hours for solving tasks 5-6, and refining your best model further (and, if you have the spare hours, experiment a bit!)."
   ]
  },
  {
   "cell_type": "markdown",
   "metadata": {
    "deletable": false,
    "editable": false,
    "nbgrader": {
     "checksum": "ba437754e558ff25301e1526ca957f4b",
     "grade": false,
     "grade_id": "cell-f7371c24b57c153e",
     "locked": true,
     "schema_version": 1,
     "solution": false
    }
   },
   "source": [
    "Requirements:\n",
    "- Whenever we ask you to plot anything, be sure to add a title and label the axes. If you're plotting more than one curve in the same plot, also add a legend.\n",
    "- When we ask you to train an architecture, train it for a reasonable number of epochs. \"Reasonable\" here means you should be fairly confident that training for a higher number of epochs wouldn't impact your conclusions regarding the model's performance.\n",
    "\n",
    "Tips:\n",
    "- If you get errors saying you've exhausted the GPU resources, well, then you exhausted the GPU resources ;). However, sometimes that's because TensorFlow didn't release a part of the GPU's memory. If you think your CNN should fit in your memory during training, try restarting the kernel and directly training only that architecture.\n",
    "- Every group has enough credits on google cloud to complete this assignment. However, this statement assumes you'll use your resources judiciously (e.g. always try the code first in your machine and make sure everything works properly before starting your instances) and **won't forget to stop your instance after using it,**  otherwise you might run out of credits.\n",
    "- Before starting, take a look at the images we'll be using. This is a hard task, don't get discouraged if your first models perform poorly (several participants in the original competition didn't achieve an accuracy higher than 60%)."
   ]
  },
  {
   "cell_type": "markdown",
   "metadata": {
    "deletable": false,
    "editable": false,
    "nbgrader": {
     "checksum": "9f50e27a30d83bcebeb52a8ae43228e2",
     "grade": false,
     "grade_id": "cell-3ee6d24346a80d85",
     "locked": true,
     "schema_version": 1,
     "solution": false
    }
   },
   "source": [
    "---\n",
    "## 0. Imports\n",
    "\n",
    "In the following cell, add all the imports you'll use in this assignment."
   ]
  },
  {
   "cell_type": "code",
   "execution_count": 1,
   "metadata": {
    "deletable": false,
    "nbgrader": {
     "checksum": "0075c816ac7a24f2287d6fa9b8a81565",
     "grade": true,
     "grade_id": "cell-464a08ede00083a4",
     "locked": false,
     "points": 0,
     "schema_version": 1,
     "solution": true
    }
   },
   "outputs": [
    {
     "name": "stderr",
     "output_type": "stream",
     "text": [
      "Using TensorFlow backend.\n"
     ]
    }
   ],
   "source": [
    "# Packages for defining the architecture of our model\n",
    "import keras\n",
    "from keras.models import Sequential, Model, load_model\n",
    "from keras.layers import Dense, Flatten, BatchNormalization, Dropout\n",
    "from keras.layers.convolutional import Conv2D, MaxPooling2D\n",
    "from keras.preprocessing.image import ImageDataGenerator\n",
    "from keras import regularizers\n",
    "from keras.optimizers import Adam\n",
    "\n",
    "# One-hot encoding\n",
    "from keras.utils import np_utils\n",
    "\n",
    "# Callbacks for training\n",
    "from keras.callbacks import TensorBoard, EarlyStopping\n",
    "\n",
    "# Ploting\n",
    "import matplotlib.pyplot as plt\n",
    "%matplotlib inline\n",
    "\n",
    "# Fixing GPU issues\n",
    "import tensorflow as tf\n",
    "from keras.backend.tensorflow_backend import set_session\n",
    "config = tf.ConfigProto()\n",
    "config.gpu_options.allow_growth = True\n",
    "set_session(tf.Session(config=config))\n",
    "\n",
    "# Ndarray computations\n",
    "import numpy as np\n",
    "\n",
    "# Confusion matrix for assessment step\n",
    "from sklearn.metrics import confusion_matrix\n",
    "\n",
    "# pickle to save history\n",
    "import pickle"
   ]
  },
  {
   "cell_type": "markdown",
   "metadata": {
    "deletable": false,
    "editable": false,
    "nbgrader": {
     "checksum": "49bf801d5ced99ccf6f0c5cd12100230",
     "grade": false,
     "grade_id": "cell-4821dc273028d702",
     "locked": true,
     "schema_version": 1,
     "solution": false
    }
   },
   "source": [
    "---\n",
    "## 1. Loading the data and preprocessing"
   ]
  },
  {
   "cell_type": "markdown",
   "metadata": {
    "deletable": false,
    "editable": false,
    "nbgrader": {
     "checksum": "d1d586c0063030cd1a3b04fe87e189f0",
     "grade": false,
     "grade_id": "cell-2ea049dea4713494",
     "locked": true,
     "schema_version": 1,
     "solution": false
    }
   },
   "source": [
    "The first step is to head to the [Kaggle website for the cats and dogs competition](https://www.kaggle.com/c/dogs-vs-cats) and download the data from there. You should download both the test and train folders together in one zip file (by clicking the download all button). The split ratio between training and validation has not been made, you'll need to do it yourself. The `test.zip` file contains unlabeled data, so that participants in the contest are not able to train on this set.\n",
    "\n",
    "For this assignment you should use [data generators](https://keras.io/preprocessing/image/) to load the images to your CPU/GPU memory. Because of this, your folder structure for the data should conform to the folder structure expected by the data generators (i.e. the samples should be separated into one folder for each class). Furthermore, we ask you to first start with a smaller subset of the data (1/5 of the number of samples), in order to test different models faster.\n",
    "\n",
    "This means that you should create a folder structure that resembles the following (obviously, the folder names are up to you):\n",
    "\n",
    "\n",
    "         small_train             small_val                train                   val\n",
    "              |                      |                      |                      |\n",
    "              |                      |                      |                      |\n",
    "        -------------          -------------          -------------          -------------\n",
    "        |           |          |           |          |           |          |           |\n",
    "        |           |          |           |          |           |          |           |\n",
    "      Cats        Dogs       Cats        Dogs       Cats        Dogs       Cats        Dogs\n",
    "\n",
    "The `small_train` and `small_val` folders have the training and validation samples for your smaller subset of the data, while the `train` and `val` folders contain all the samples you extracted from Kaggle's `train.zip`. We provide you a notebook that shows how to achieve this (\"Create project structure.ipynb\"), starting from the original `all.zip` file that you download from Kaggle. If you do use that notebook, we encourage you to understand how each step is being done, so you can generalize this knowledge to new datasets you'll encounter.\n",
    "\n",
    "We advise you to use 30% of the data as validation data in the smaller dataset. However, for the larger dataset, you should decide how to split between training and validation. Please specify your splits in the following cells."
   ]
  },
  {
   "cell_type": "markdown",
   "metadata": {
    "deletable": false,
    "editable": false,
    "nbgrader": {
     "checksum": "21f8c413dbd2a629e479abc65e02c1a1",
     "grade": false,
     "grade_id": "cell-89ba19509b952af2",
     "locked": true,
     "schema_version": 1,
     "solution": false
    }
   },
   "source": [
    "For the larger subset, what was the training/validation split that you decided to use?"
   ]
  },
  {
   "cell_type": "markdown",
   "metadata": {
    "deletable": false,
    "editable": false,
    "nbgrader": {
     "checksum": "b5740099dceee0e312b1711006e99c1f",
     "grade": false,
     "grade_id": "cell-b0efa9a80e35cb50",
     "locked": true,
     "schema_version": 1,
     "solution": false
    }
   },
   "source": [
    "**% Samples in the training set:**"
   ]
  },
  {
   "cell_type": "code",
   "execution_count": 5,
   "metadata": {
    "deletable": false,
    "nbgrader": {
     "checksum": "0345d9abbe8e41a3d79a43e58cf61bbd",
     "grade": true,
     "grade_id": "cell-7f3b0dfbd90a14c1",
     "locked": false,
     "points": 0.25,
     "schema_version": 1,
     "solution": true
    }
   },
   "outputs": [
    {
     "name": "stdout",
     "output_type": "stream",
     "text": [
      "90%\n"
     ]
    }
   ],
   "source": [
    "# YOUR CODE HERE\n",
    "print(\"90%\")"
   ]
  },
  {
   "cell_type": "markdown",
   "metadata": {
    "deletable": false,
    "editable": false,
    "nbgrader": {
     "checksum": "2ddce1febefd28de63c23277971779d3",
     "grade": false,
     "grade_id": "cell-c23e59a345aa4071",
     "locked": true,
     "schema_version": 1,
     "solution": false
    }
   },
   "source": [
    "**% Samples in the validation set:**"
   ]
  },
  {
   "cell_type": "code",
   "execution_count": 6,
   "metadata": {
    "deletable": false,
    "nbgrader": {
     "checksum": "b8cd8215973c0496aaed775aa00d9052",
     "grade": true,
     "grade_id": "cell-515a15da68038afe",
     "locked": false,
     "points": 0.25,
     "schema_version": 1,
     "solution": true
    }
   },
   "outputs": [
    {
     "name": "stdout",
     "output_type": "stream",
     "text": [
      "10%\n"
     ]
    }
   ],
   "source": [
    "# YOUR CODE HERE\n",
    "print(\"10%\")"
   ]
  },
  {
   "cell_type": "markdown",
   "metadata": {
    "deletable": false,
    "editable": false,
    "nbgrader": {
     "checksum": "f907f0a06aa01c1087ab6e18710c2fbe",
     "grade": false,
     "grade_id": "cell-876ca7df88c9311f",
     "locked": true,
     "schema_version": 1,
     "solution": false
    }
   },
   "source": [
    "Fill in the dataset paths (to be used later by your data generators):"
   ]
  },
  {
   "cell_type": "code",
   "execution_count": 2,
   "metadata": {
    "deletable": false,
    "nbgrader": {
     "checksum": "99224aa0ced417acf27d271313ab4ca2",
     "grade": true,
     "grade_id": "cell-1b1314f2ab1b1d6b",
     "locked": false,
     "points": 0,
     "schema_version": 1,
     "solution": true
    }
   },
   "outputs": [],
   "source": [
    "# YOUR CODE HERE - DONE\n",
    "train_path = 'small_train'\n",
    "val_path = 'small_val'"
   ]
  },
  {
   "cell_type": "markdown",
   "metadata": {
    "deletable": false,
    "editable": false,
    "nbgrader": {
     "checksum": "b5cab872fd6c9d35842bc8b3708e1b7c",
     "grade": false,
     "grade_id": "cell-1d6ea64bca94a4ef",
     "locked": true,
     "schema_version": 1,
     "solution": false
    }
   },
   "source": [
    "---\n",
    "Once you have the expected folder structure, create two data generators for automatically generating batches from the images in your smaller subset of data. Don't use any [data augmentation](https://cartesianfaith.com/2016/10/06/what-you-need-to-know-about-data-augmentation-for-machine-learning/), but feel free to preprocess the data as you see fit. After instantiating them, run the `flow_from_directory` method with the desired arguments.\n",
    "\n",
    "Hints:\n",
    "- The specified `batch_size` should be chosen so that your don't run out of memory.\n",
    "- When feeding the images to your CNN, you'll probably want all of them to have the same spatial size, even though the .jpeg files differ in this. If so, take a look at the argument `target_size` for the `flow_from_directory` method of data generators.\n",
    "- Resizing the images to a smaller size while loading them can be beneficial."
   ]
  },
  {
   "cell_type": "code",
   "execution_count": 3,
   "metadata": {
    "deletable": false,
    "nbgrader": {
     "checksum": "ccd3d3780bee365018f2a96b8022d56b",
     "grade": true,
     "grade_id": "cell-ed8f5ab8d5cc0d6c",
     "locked": false,
     "points": 1.5,
     "schema_version": 1,
     "solution": true
    }
   },
   "outputs": [
    {
     "name": "stdout",
     "output_type": "stream",
     "text": [
      "Found 3500 images belonging to 2 classes.\n",
      "Found 1500 images belonging to 2 classes.\n"
     ]
    }
   ],
   "source": [
    "train_datagen = ImageDataGenerator(rescale=1./255)\n",
    "\n",
    "val_datagen = ImageDataGenerator(rescale=1./255)\n",
    "\n",
    "image_width = 100\n",
    "image_height = 100\n",
    "\n",
    "train_generator = train_datagen.flow_from_directory(\n",
    "        train_path,\n",
    "        target_size=(image_width, image_height),\n",
    "        batch_size=32,\n",
    "        shuffle=True,\n",
    "        class_mode='binary')\n",
    "\n",
    "validation_generator = val_datagen.flow_from_directory(\n",
    "        val_path,\n",
    "        target_size=(image_width, image_height),\n",
    "        batch_size=32,\n",
    "        shuffle=True,\n",
    "        class_mode='binary')"
   ]
  },
  {
   "cell_type": "markdown",
   "metadata": {
    "deletable": false,
    "editable": false,
    "nbgrader": {
     "checksum": "9e39d5fb0e38a44e07a4519f4db98583",
     "grade": false,
     "grade_id": "cell-c0bfc1ac7fadfcc7",
     "locked": true,
     "schema_version": 1,
     "solution": false
    }
   },
   "source": [
    "---\n",
    "## 2. Training"
   ]
  },
  {
   "cell_type": "markdown",
   "metadata": {
    "deletable": false,
    "editable": false,
    "nbgrader": {
     "checksum": "41dd6aa5a0bc2a35b880c6e72db8e130",
     "grade": false,
     "grade_id": "cell-2c2425121bcacf34",
     "locked": true,
     "schema_version": 1,
     "solution": false
    }
   },
   "source": [
    "Create your first CNN architecture for this task. Start with something as simple as possible, that you're almost sure can get an accuracy better than 50% (we'll improve upon it later).\n",
    "\n",
    "Tip:\n",
    "- If Tensorflow is your backend, your `input_shape` is always `(img_width, img_height, 3)` (i.e. channels **last**)"
   ]
  },
  {
   "cell_type": "code",
   "execution_count": 8,
   "metadata": {
    "deletable": false,
    "nbgrader": {
     "checksum": "d2c30c88e647d05bd81604c1339a68e7",
     "grade": true,
     "grade_id": "cell-4c9de348cd8bc4ff",
     "locked": false,
     "points": 2,
     "schema_version": 1,
     "solution": true
    }
   },
   "outputs": [],
   "source": [
    "def base_model():\n",
    "    \n",
    "    # create model\n",
    "    model = Sequential()\n",
    "    model.add(Conv2D(30, (5, 5), input_shape=(image_width, image_height, 3), activation='relu'))\n",
    "    model.add(MaxPooling2D(pool_size=(2, 2)))\n",
    "    model.add(Flatten())\n",
    "    model.add(Dense(32, activation='relu'))\n",
    "    model.add(Dense(1, activation='sigmoid'))\n",
    "    \n",
    "    # Compile model\n",
    "    model.compile(loss='binary_crossentropy', optimizer='adam', metrics=['accuracy'])\n",
    "    return model"
   ]
  },
  {
   "cell_type": "markdown",
   "metadata": {
    "deletable": false,
    "editable": false,
    "nbgrader": {
     "checksum": "5210173277189c7bc5d5c18621a1ef8c",
     "grade": false,
     "grade_id": "cell-cb6fc78116ad6b75",
     "locked": true,
     "schema_version": 1,
     "solution": false
    }
   },
   "source": [
    "Train your model using the `fit_generator` method and the two data generators you created earlier. Train for a reasonable amount of epochs, so as to get a good sense of how well this architecture performs.\n",
    "\n",
    "Tips:\n",
    "- Usually the bottleneck is when loading the images from the disk. To speed up training, make sure to take a look at the arguments `workers` and `use_multiprocessing` of `fit_generator`.\n",
    "- You don't have to set the argument `steps_per_epoch` to the number of batches in an epoch. Instead, you can choose a lower number to obtain more frequent prints about the current loss and accuracy of your model (but then have in mind that you're not actually training for the number of epochs you specify in `epochs`)."
   ]
  },
  {
   "cell_type": "code",
   "execution_count": 10,
   "metadata": {
    "deletable": false,
    "nbgrader": {
     "checksum": "865326597e6d487caaaa64ba30cf1abe",
     "grade": true,
     "grade_id": "cell-bb1fcd878f3bea9a",
     "locked": false,
     "points": 1,
     "schema_version": 1,
     "solution": true
    }
   },
   "outputs": [
    {
     "name": "stdout",
     "output_type": "stream",
     "text": [
      "Epoch 1/20\n",
      "60/60 [==============================] - 9s 142ms/step - loss: 0.8059 - acc: 0.5113 - val_loss: 0.6921 - val_acc: 0.5033\n",
      "Epoch 2/20\n",
      "60/60 [==============================] - 8s 125ms/step - loss: 0.6792 - acc: 0.5693 - val_loss: 0.6607 - val_acc: 0.6167\n",
      "Epoch 3/20\n",
      "60/60 [==============================] - 8s 129ms/step - loss: 0.6389 - acc: 0.6469 - val_loss: 0.7137 - val_acc: 0.5547\n",
      "Epoch 4/20\n",
      "60/60 [==============================] - 7s 125ms/step - loss: 0.6101 - acc: 0.6526 - val_loss: 0.6222 - val_acc: 0.6400\n",
      "Epoch 5/20\n",
      "60/60 [==============================] - 8s 126ms/step - loss: 0.5414 - acc: 0.7254 - val_loss: 0.6245 - val_acc: 0.6387\n",
      "Epoch 6/20\n",
      "60/60 [==============================] - 8s 126ms/step - loss: 0.4711 - acc: 0.7750 - val_loss: 0.6421 - val_acc: 0.6627\n",
      "Epoch 7/20\n",
      "60/60 [==============================] - 8s 133ms/step - loss: 0.4313 - acc: 0.8016 - val_loss: 0.6485 - val_acc: 0.6667\n",
      "Epoch 8/20\n",
      "60/60 [==============================] - 8s 126ms/step - loss: 0.3377 - acc: 0.8740 - val_loss: 0.7033 - val_acc: 0.6827\n",
      "Epoch 9/20\n",
      "60/60 [==============================] - 7s 121ms/step - loss: 0.2979 - acc: 0.8774 - val_loss: 0.6773 - val_acc: 0.6913\n",
      "Epoch 10/20\n",
      "60/60 [==============================] - 8s 126ms/step - loss: 0.2003 - acc: 0.9297 - val_loss: 0.7630 - val_acc: 0.6820\n",
      "Epoch 11/20\n",
      "60/60 [==============================] - 8s 128ms/step - loss: 0.1937 - acc: 0.9307 - val_loss: 0.7955 - val_acc: 0.6933\n",
      "Epoch 12/20\n",
      "60/60 [==============================] - 8s 128ms/step - loss: 0.1010 - acc: 0.9776 - val_loss: 0.8800 - val_acc: 0.6993\n",
      "Epoch 13/20\n",
      "60/60 [==============================] - 8s 127ms/step - loss: 0.0929 - acc: 0.9740 - val_loss: 0.9594 - val_acc: 0.7033\n",
      "Epoch 14/20\n",
      "60/60 [==============================] - 8s 131ms/step - loss: 0.0567 - acc: 0.9880 - val_loss: 0.9841 - val_acc: 0.6820\n",
      "Epoch 15/20\n",
      "60/60 [==============================] - 8s 128ms/step - loss: 0.0447 - acc: 0.9927 - val_loss: 1.1223 - val_acc: 0.6947\n",
      "Epoch 16/20\n",
      "60/60 [==============================] - 8s 128ms/step - loss: 0.0255 - acc: 0.9984 - val_loss: 1.1598 - val_acc: 0.7007\n",
      "Epoch 17/20\n",
      "60/60 [==============================] - 8s 128ms/step - loss: 0.0180 - acc: 0.9995 - val_loss: 1.2540 - val_acc: 0.6993\n",
      "Epoch 18/20\n",
      "60/60 [==============================] - 7s 124ms/step - loss: 0.0094 - acc: 1.0000 - val_loss: 1.2743 - val_acc: 0.6867\n",
      "Epoch 19/20\n",
      "60/60 [==============================] - 8s 130ms/step - loss: 0.0075 - acc: 1.0000 - val_loss: 1.3312 - val_acc: 0.7027\n",
      "Epoch 20/20\n",
      "60/60 [==============================] - 7s 125ms/step - loss: 0.0051 - acc: 1.0000 - val_loss: 1.3784 - val_acc: 0.7000\n"
     ]
    }
   ],
   "source": [
    "# build the model\n",
    "model = base_model()\n",
    "\n",
    "# Fit the model\n",
    "hist = model.fit_generator(\n",
    "    train_generator,\n",
    "    epochs=20,\n",
    "    validation_data=validation_generator,\n",
    "    verbose=1,\n",
    "    steps_per_epoch=60,\n",
    "    shuffle=True\n",
    ")"
   ]
  },
  {
   "cell_type": "markdown",
   "metadata": {
    "deletable": false,
    "editable": false,
    "nbgrader": {
     "checksum": "2f494d53c5c891008921b85679b9aaa7",
     "grade": false,
     "grade_id": "cell-4d42c86687697a67",
     "locked": true,
     "schema_version": 1,
     "solution": false
    }
   },
   "source": [
    "Create one figure with two axes. In one of them, plot the loss in the training and the validation datasets. In the other one, plot the accuracy in the training and validation datasets.\n",
    "\n",
    "Hint:\n",
    "- The `fit_generator` method returns a `history` object."
   ]
  },
  {
   "cell_type": "code",
   "execution_count": 11,
   "metadata": {
    "deletable": false,
    "nbgrader": {
     "checksum": "e71729e832321272983178b41b90f874",
     "grade": true,
     "grade_id": "cell-fa81712e1e27432a",
     "locked": false,
     "points": 0,
     "schema_version": 1,
     "solution": true
    }
   },
   "outputs": [
    {
     "data": {
      "image/png": "[encoded data removed]",
      "text/plain": [
       "<Figure size 1080x360 with 2 Axes>"
      ]
     },
     "metadata": {},
     "output_type": "display_data"
    }
   ],
   "source": [
    "plt.figure(figsize=(15,5))\n",
    "\n",
    "# Loss\n",
    "plt.subplot(121)\n",
    "plt.plot(hist.history['loss'])\n",
    "plt.plot(hist.history['val_loss'])\n",
    "plt.title('Loss over epochs')\n",
    "plt.ylabel('Loss')\n",
    "plt.xlabel('Epoch')\n",
    "plt.legend(['Training', 'Validation'], loc='upper left')\n",
    "\n",
    "# Accuracy\n",
    "plt.subplot(122)\n",
    "plt.plot(hist.history['acc'])\n",
    "plt.plot(hist.history['val_acc'])\n",
    "plt.title('Accuracy over epochs')\n",
    "plt.ylabel('Accuracy')\n",
    "plt.xlabel('Epoch')\n",
    "plt.legend(['Training', 'Validation'], loc='upper left')\n",
    "\n",
    "plt.show()"
   ]
  },
  {
   "cell_type": "markdown",
   "metadata": {
    "deletable": false,
    "editable": false,
    "nbgrader": {
     "checksum": "5797f9d2d079b67832722cebe8cff0ef",
     "grade": false,
     "grade_id": "cell-f2fc166890962bcf",
     "locked": true,
     "schema_version": 1,
     "solution": false
    }
   },
   "source": [
    "Based on these, what would you suggest for improving your model? Why?"
   ]
  },
  {
   "cell_type": "markdown",
   "metadata": {
    "deletable": false,
    "nbgrader": {
     "checksum": "cf197ef63bfa3aee62055bd8ed8f7a1c",
     "grade": true,
     "grade_id": "cell-506e21ce469b67f5",
     "locked": false,
     "points": 1,
     "schema_version": 1,
     "solution": true
    }
   },
   "source": [
    "**Your answer:** \n",
    "We are able to get extremely good results on the training data but it does not generalize well enough since the validation accuracy stagnates around 65%. This is a problem of overfitting, which is very apparent when looking at the validation loss.\n",
    "\n",
    "To combat overfitting we can for example add data, regularize or reduce the model complexity. However, in this case our model is already simple, which is probably the reason that it cannot pick up features that are general enough to perform well on the validation set. Therefore, we would likely be better off by increasing the complexity of the model, even though this seems counterintuitive. As a first improvement we will regularize this model."
   ]
  },
  {
   "cell_type": "markdown",
   "metadata": {
    "deletable": false,
    "editable": false,
    "nbgrader": {
     "checksum": "0be49b9a95620540a192e413f70f71c5",
     "grade": false,
     "grade_id": "cell-db018000a5382694",
     "locked": true,
     "schema_version": 1,
     "solution": false
    }
   },
   "source": [
    "---\n",
    "## 3. Improving your initial model"
   ]
  },
  {
   "cell_type": "markdown",
   "metadata": {
    "deletable": false,
    "editable": false,
    "nbgrader": {
     "checksum": "52b66a6d63b9dd6f55f0dfd477b84597",
     "grade": false,
     "grade_id": "cell-fa0e4d84ef7af322",
     "locked": true,
     "schema_version": 1,
     "solution": false
    }
   },
   "source": [
    "Improve your initial model according to you answer above. Write the new definition in the cell below and train it."
   ]
  },
  {
   "cell_type": "code",
   "execution_count": 36,
   "metadata": {
    "deletable": false,
    "nbgrader": {
     "checksum": "a0b92d3cd986908779f53ff2b6fac22f",
     "grade": true,
     "grade_id": "cell-a4a3c7da2ad8161b",
     "locked": false,
     "points": 2,
     "schema_version": 1,
     "solution": true
    }
   },
   "outputs": [
    {
     "name": "stdout",
     "output_type": "stream",
     "text": [
      "Epoch 1/20\n",
      "60/60 [==============================] - 9s 156ms/step - loss: 0.8806 - acc: 0.5517 - val_loss: 0.7699 - val_acc: 0.5827\n",
      "Epoch 2/20\n",
      "60/60 [==============================] - 8s 128ms/step - loss: 0.7484 - acc: 0.6021 - val_loss: 0.7316 - val_acc: 0.5767\n",
      "Epoch 3/20\n",
      "60/60 [==============================] - 7s 125ms/step - loss: 0.7059 - acc: 0.6769 - val_loss: 0.7159 - val_acc: 0.6460\n",
      "Epoch 4/20\n",
      "60/60 [==============================] - 8s 126ms/step - loss: 0.7012 - acc: 0.6745 - val_loss: 0.7138 - val_acc: 0.6800\n",
      "Epoch 5/20\n",
      "60/60 [==============================] - 8s 126ms/step - loss: 0.6867 - acc: 0.6854 - val_loss: 0.7095 - val_acc: 0.6460\n",
      "Epoch 6/20\n",
      "60/60 [==============================] - 8s 131ms/step - loss: 0.6782 - acc: 0.6923 - val_loss: 0.7248 - val_acc: 0.6753\n",
      "Epoch 7/20\n",
      "60/60 [==============================] - 8s 126ms/step - loss: 0.6759 - acc: 0.7177 - val_loss: 0.6905 - val_acc: 0.6747\n",
      "Epoch 8/20\n",
      "60/60 [==============================] - 8s 127ms/step - loss: 0.6265 - acc: 0.7469 - val_loss: 0.6979 - val_acc: 0.6713\n",
      "Epoch 9/20\n",
      "60/60 [==============================] - 7s 125ms/step - loss: 0.6484 - acc: 0.7154 - val_loss: 0.7386 - val_acc: 0.6360\n",
      "Epoch 10/20\n",
      "60/60 [==============================] - 8s 131ms/step - loss: 0.6221 - acc: 0.7609 - val_loss: 0.7708 - val_acc: 0.6353\n",
      "Epoch 11/20\n",
      "60/60 [==============================] - 8s 125ms/step - loss: 0.6617 - acc: 0.7266 - val_loss: 0.6987 - val_acc: 0.6853\n",
      "Epoch 12/20\n",
      "60/60 [==============================] - 8s 136ms/step - loss: 0.5762 - acc: 0.8031 - val_loss: 0.7099 - val_acc: 0.6900\n",
      "Epoch 13/20\n",
      "60/60 [==============================] - 9s 142ms/step - loss: 0.6148 - acc: 0.7694 - val_loss: 0.7147 - val_acc: 0.6967\n",
      "Epoch 14/20\n",
      "60/60 [==============================] - 8s 128ms/step - loss: 0.5572 - acc: 0.8047 - val_loss: 0.7948 - val_acc: 0.6507\n",
      "Epoch 15/20\n",
      "60/60 [==============================] - 7s 125ms/step - loss: 0.5949 - acc: 0.7885 - val_loss: 0.7346 - val_acc: 0.6853\n",
      "Epoch 16/20\n",
      "60/60 [==============================] - 7s 124ms/step - loss: 0.5777 - acc: 0.8003 - val_loss: 0.7358 - val_acc: 0.6993\n",
      "Epoch 17/20\n",
      "60/60 [==============================] - 7s 125ms/step - loss: 0.5427 - acc: 0.8234 - val_loss: 0.7726 - val_acc: 0.6967\n",
      "Epoch 18/20\n",
      "60/60 [==============================] - 8s 136ms/step - loss: 0.5879 - acc: 0.7886 - val_loss: 0.7483 - val_acc: 0.6853\n",
      "Epoch 19/20\n",
      "60/60 [==============================] - 10s 169ms/step - loss: 0.5485 - acc: 0.8312 - val_loss: 0.7576 - val_acc: 0.6860\n",
      "Epoch 20/20\n",
      "60/60 [==============================] - 8s 132ms/step - loss: 0.5699 - acc: 0.8094 - val_loss: 0.7631 - val_acc: 0.6927\n"
     ]
    }
   ],
   "source": [
    "# YOUR CODE HERE\n",
    "def second_model():\n",
    "    reg = regularizers.l2(0.005)\n",
    "    \n",
    "    # Using base model with just added batch normalization and regularization\n",
    "    model = Sequential()\n",
    "    model.add(Conv2D(30, (5, 5), input_shape=(image_width, image_height, 3), \n",
    "                 activation='relu', kernel_regularizer=reg))\n",
    "    model.add(MaxPooling2D(pool_size=(2, 2)))\n",
    "    model.add(Flatten())\n",
    "    model.add(Dense(32, activation='relu', kernel_regularizer=reg))\n",
    "    model.add(Dense(1, activation='sigmoid', kernel_regularizer=reg))\n",
    "    \n",
    "    # Compile model\n",
    "    model.compile(loss='binary_crossentropy', optimizer='adam', metrics=['accuracy'])\n",
    "    return model\n",
    "\n",
    "sec_model = second_model()\n",
    "sec_hist = sec_model.fit_generator(\n",
    "    train_generator,\n",
    "    epochs=20,\n",
    "    validation_data=validation_generator,\n",
    "    verbose=1,\n",
    "    shuffle=True,\n",
    "    steps_per_epoch=60\n",
    ")"
   ]
  },
  {
   "cell_type": "markdown",
   "metadata": {
    "deletable": false,
    "editable": false,
    "nbgrader": {
     "checksum": "a93627bb2c08c83a9d4cb6596ab27de7",
     "grade": false,
     "grade_id": "cell-bcff77954e648d56",
     "locked": true,
     "schema_version": 1,
     "solution": false
    }
   },
   "source": [
    "How does the model perform, compared to the initial model? Create one plot with the training accuracy and another with the validation accuracy of the two scenarios."
   ]
  },
  {
   "cell_type": "code",
   "execution_count": 37,
   "metadata": {
    "deletable": false,
    "nbgrader": {
     "checksum": "b18ab0f30b9a4e8e9746f324313fa1b2",
     "grade": true,
     "grade_id": "cell-e4cf90a9c3ae1959",
     "locked": false,
     "points": 0,
     "schema_version": 1,
     "solution": true
    }
   },
   "outputs": [
    {
     "data": {
      "image/png": "[encoded data removed]",
      "text/plain": [
       "<Figure size 1080x360 with 2 Axes>"
      ]
     },
     "metadata": {},
     "output_type": "display_data"
    }
   ],
   "source": [
    "plt.figure(figsize=(15,5))\n",
    "\n",
    "# Train accuracy\n",
    "plt.subplot(121)\n",
    "plt.plot(hist.history['acc'])\n",
    "plt.plot(sec_hist.history['acc'])\n",
    "plt.title('Training accuracy')\n",
    "plt.ylabel('Accuracy')\n",
    "plt.xlabel('Epoch')\n",
    "plt.legend(['Base', 'Improved'], loc='upper left')\n",
    "\n",
    "# Val accuracy\n",
    "plt.subplot(122)\n",
    "plt.plot(hist.history['val_acc'])\n",
    "plt.plot(sec_hist.history['val_acc'])\n",
    "plt.title('Validation accuracy')\n",
    "plt.ylabel('Accuracy')\n",
    "plt.xlabel('Epoch')\n",
    "plt.legend(['Base', 'Improved'], loc='upper left')\n",
    "\n",
    "plt.show()"
   ]
  },
  {
   "cell_type": "markdown",
   "metadata": {
    "deletable": false,
    "editable": false,
    "nbgrader": {
     "checksum": "5e771b76bc948242070767d51688eeee",
     "grade": false,
     "grade_id": "cell-14b1810989c351b4",
     "locked": true,
     "schema_version": 1,
     "solution": false
    }
   },
   "source": [
    "Did your results improve? Explain why, or why not."
   ]
  },
  {
   "cell_type": "markdown",
   "metadata": {
    "deletable": false,
    "nbgrader": {
     "checksum": "30a59a5574ab183d17b3f92f8057aba4",
     "grade": true,
     "grade_id": "cell-1d27850a74139e5a",
     "locked": false,
     "points": 1,
     "schema_version": 1,
     "solution": true
    }
   },
   "source": [
    "**Your answer:** The improved model did not improve the validation accuracy. But the regularization did lower the training accuracy to be more similar to the validation. We can also see the debug rows during training that the validation loss does not increase as in our base model. \n",
    "\n",
    "Not really an improvment of the accuracy, however, according to the loss we are not overfitting anymore. Instead it seems our model is too simple to generalize for the dataset. \n",
    "\n",
    "For further development it would be a good idea to increase the number of convoluational layers to get more abstract features."
   ]
  },
  {
   "cell_type": "markdown",
   "metadata": {
    "deletable": false,
    "editable": false,
    "nbgrader": {
     "checksum": "67dce4bccc56629263ef4839e570f12a",
     "grade": false,
     "grade_id": "cell-ee79a83a62b70a8f",
     "locked": true,
     "schema_version": 1,
     "solution": false
    }
   },
   "source": [
    "---\n",
    "## 4. Obtaining the *best* model"
   ]
  },
  {
   "cell_type": "markdown",
   "metadata": {
    "deletable": false,
    "editable": false,
    "nbgrader": {
     "checksum": "6d029dd4346c9e32b725e6158d77475c",
     "grade": false,
     "grade_id": "cell-5314d286e79e0377",
     "locked": true,
     "schema_version": 1,
     "solution": false
    }
   },
   "source": [
    "Continue to improve your model architecture by comparing the value of the metrics you're interested in both the training and validation set. Try different ideas, and consider comparing them using tensorboard. When you're happy with one architecture, copy it in the cell below and train it here. Save the optimization history (i.e. the `history` object returned by the `fit_generator`). You'll use this later to compare your best model with the one using transfer learning.\n",
    "\n",
    "**Note**: When trying different ideas, you'll end up with several different models. However, when submitting your solutions to ping-pong, the cell below must contain only the definition and training of *one* model. Remove all code related to the models that were not chosen."
   ]
  },
  {
   "cell_type": "code",
   "execution_count": 37,
   "metadata": {
    "deletable": false,
    "nbgrader": {
     "checksum": "45e0af4b6ac1d453b519ba7c65ccb56d",
     "grade": true,
     "grade_id": "cell-6edb7d7e343ab14b",
     "locked": false,
     "points": 2,
     "schema_version": 1,
     "solution": true
    }
   },
   "outputs": [
    {
     "name": "stdout",
     "output_type": "stream",
     "text": [
      "_________________________________________________________________\n",
      "Layer (type)                 Output Shape              Param #   \n",
      "=================================================================\n",
      "conv2d_133 (Conv2D)          (None, 100, 100, 16)      448       \n",
      "_________________________________________________________________\n",
      "batch_normalization_169 (Bat (None, 100, 100, 16)      64        \n",
      "_________________________________________________________________\n",
      "conv2d_134 (Conv2D)          (None, 100, 100, 16)      2320      \n",
      "_________________________________________________________________\n",
      "max_pooling2d_67 (MaxPooling (None, 50, 50, 16)        0         \n",
      "_________________________________________________________________\n",
      "batch_normalization_170 (Bat (None, 50, 50, 16)        64        \n",
      "_________________________________________________________________\n",
      "conv2d_135 (Conv2D)          (None, 50, 50, 32)        4640      \n",
      "_________________________________________________________________\n",
      "batch_normalization_171 (Bat (None, 50, 50, 32)        128       \n",
      "_________________________________________________________________\n",
      "conv2d_136 (Conv2D)          (None, 50, 50, 32)        9248      \n",
      "_________________________________________________________________\n",
      "max_pooling2d_68 (MaxPooling (None, 25, 25, 32)        0         \n",
      "_________________________________________________________________\n",
      "batch_normalization_172 (Bat (None, 25, 25, 32)        128       \n",
      "_________________________________________________________________\n",
      "conv2d_137 (Conv2D)          (None, 25, 25, 64)        18496     \n",
      "_________________________________________________________________\n",
      "batch_normalization_173 (Bat (None, 25, 25, 64)        256       \n",
      "_________________________________________________________________\n",
      "conv2d_138 (Conv2D)          (None, 25, 25, 64)        36928     \n",
      "_________________________________________________________________\n",
      "max_pooling2d_69 (MaxPooling (None, 12, 12, 64)        0         \n",
      "_________________________________________________________________\n",
      "batch_normalization_174 (Bat (None, 12, 12, 64)        256       \n",
      "_________________________________________________________________\n",
      "flatten_26 (Flatten)         (None, 9216)              0         \n",
      "_________________________________________________________________\n",
      "dense_72 (Dense)             (None, 32)                294944    \n",
      "_________________________________________________________________\n",
      "dropout_30 (Dropout)         (None, 32)                0         \n",
      "_________________________________________________________________\n",
      "batch_normalization_175 (Bat (None, 32)                128       \n",
      "_________________________________________________________________\n",
      "dense_73 (Dense)             (None, 32)                1056      \n",
      "_________________________________________________________________\n",
      "dropout_31 (Dropout)         (None, 32)                0         \n",
      "_________________________________________________________________\n",
      "batch_normalization_176 (Bat (None, 32)                128       \n",
      "_________________________________________________________________\n",
      "dense_74 (Dense)             (None, 1)                 33        \n",
      "=================================================================\n",
      "Total params: 369,265\n",
      "Trainable params: 368,689\n",
      "Non-trainable params: 576\n",
      "_________________________________________________________________\n",
      "None\n",
      "Epoch 1/30\n",
      "110/110 [==============================] - 36s 328ms/step - loss: 11.7654 - acc: 0.5552 - val_loss: 5.9464 - val_acc: 0.5620\n",
      "Epoch 2/30\n",
      "110/110 [==============================] - 22s 200ms/step - loss: 4.1449 - acc: 0.5542 - val_loss: 2.9357 - val_acc: 0.5393\n",
      "Epoch 3/30\n",
      "110/110 [==============================] - 20s 183ms/step - loss: 2.3779 - acc: 0.5794 - val_loss: 1.9750 - val_acc: 0.5227\n",
      "Epoch 4/30\n",
      "110/110 [==============================] - 19s 169ms/step - loss: 1.7497 - acc: 0.5850 - val_loss: 1.5825 - val_acc: 0.5647\n",
      "Epoch 5/30\n",
      "110/110 [==============================] - 18s 162ms/step - loss: 1.4546 - acc: 0.5894 - val_loss: 1.3360 - val_acc: 0.6427\n",
      "Epoch 6/30\n",
      "110/110 [==============================] - 18s 159ms/step - loss: 1.2780 - acc: 0.5977 - val_loss: 1.1876 - val_acc: 0.6593\n",
      "Epoch 7/30\n",
      "110/110 [==============================] - 17s 155ms/step - loss: 1.1513 - acc: 0.6152 - val_loss: 1.1384 - val_acc: 0.6233\n",
      "Epoch 8/30\n",
      "110/110 [==============================] - 16s 149ms/step - loss: 1.0812 - acc: 0.6330 - val_loss: 1.0552 - val_acc: 0.6760\n",
      "Epoch 9/30\n",
      "110/110 [==============================] - 16s 147ms/step - loss: 1.0019 - acc: 0.6669 - val_loss: 0.9391 - val_acc: 0.7020\n",
      "Epoch 10/30\n",
      "110/110 [==============================] - 16s 147ms/step - loss: 0.9603 - acc: 0.6747 - val_loss: 0.9605 - val_acc: 0.7013\n",
      "Epoch 11/30\n",
      "110/110 [==============================] - 16s 142ms/step - loss: 0.9486 - acc: 0.6717 - val_loss: 0.9049 - val_acc: 0.7167\n",
      "Epoch 12/30\n",
      "110/110 [==============================] - 15s 140ms/step - loss: 0.8974 - acc: 0.7053 - val_loss: 0.8768 - val_acc: 0.6960\n",
      "Epoch 13/30\n",
      "110/110 [==============================] - 17s 152ms/step - loss: 0.8496 - acc: 0.7259 - val_loss: 0.8406 - val_acc: 0.7593\n",
      "Epoch 14/30\n",
      "110/110 [==============================] - 17s 151ms/step - loss: 0.8227 - acc: 0.7397 - val_loss: 0.8283 - val_acc: 0.7247\n",
      "Epoch 15/30\n",
      "110/110 [==============================] - 17s 152ms/step - loss: 0.7898 - acc: 0.7574 - val_loss: 0.8253 - val_acc: 0.7460\n",
      "Epoch 16/30\n",
      "110/110 [==============================] - 17s 152ms/step - loss: 0.7560 - acc: 0.7735 - val_loss: 0.7752 - val_acc: 0.7580\n",
      "Epoch 17/30\n",
      "110/110 [==============================] - 18s 159ms/step - loss: 0.7185 - acc: 0.7898 - val_loss: 0.7163 - val_acc: 0.7973\n",
      "Epoch 18/30\n",
      "110/110 [==============================] - 19s 170ms/step - loss: 0.7009 - acc: 0.7992 - val_loss: 0.7000 - val_acc: 0.7967\n",
      "Epoch 19/30\n",
      "110/110 [==============================] - 19s 177ms/step - loss: 0.6573 - acc: 0.8300 - val_loss: 0.7063 - val_acc: 0.7940\n",
      "Epoch 20/30\n",
      "110/110 [==============================] - 21s 190ms/step - loss: 0.6258 - acc: 0.8447 - val_loss: 0.6703 - val_acc: 0.8067\n",
      "Epoch 21/30\n",
      "110/110 [==============================] - 23s 212ms/step - loss: 0.5969 - acc: 0.8578 - val_loss: 0.6502 - val_acc: 0.8173\n",
      "Epoch 22/30\n",
      "110/110 [==============================] - 26s 240ms/step - loss: 0.5709 - acc: 0.8750 - val_loss: 0.6436 - val_acc: 0.8173\n",
      "Epoch 23/30\n",
      "110/110 [==============================] - 34s 308ms/step - loss: 0.5356 - acc: 0.8953 - val_loss: 0.6362 - val_acc: 0.8160\n",
      "Epoch 24/30\n",
      "110/110 [==============================] - 34s 308ms/step - loss: 0.5254 - acc: 0.8974 - val_loss: 0.6213 - val_acc: 0.8300\n",
      "Epoch 25/30\n",
      "110/110 [==============================] - 34s 308ms/step - loss: 0.5078 - acc: 0.9093 - val_loss: 0.6206 - val_acc: 0.8307\n",
      "Epoch 26/30\n",
      "110/110 [==============================] - 33s 299ms/step - loss: 0.4892 - acc: 0.9143 - val_loss: 0.6403 - val_acc: 0.8093\n",
      "Epoch 27/30\n",
      "110/110 [==============================] - 30s 270ms/step - loss: 0.4758 - acc: 0.9205 - val_loss: 0.6512 - val_acc: 0.8067\n",
      "Epoch 28/30\n",
      "110/110 [==============================] - 24s 218ms/step - loss: 0.4402 - acc: 0.9409 - val_loss: 0.6245 - val_acc: 0.8227\n",
      "Epoch 29/30\n",
      "110/110 [==============================] - 21s 189ms/step - loss: 0.4294 - acc: 0.9474 - val_loss: 0.6080 - val_acc: 0.8333\n",
      "Epoch 30/30\n",
      "110/110 [==============================] - 19s 177ms/step - loss: 0.4200 - acc: 0.9483 - val_loss: 0.5906 - val_acc: 0.8427\n"
     ]
    }
   ],
   "source": [
    "# YOUR CODE HERE\n",
    "def third_model():\n",
    "    \n",
    "    l2_sigma = 0.07\n",
    "    fc_args = { \n",
    "        'activation':'relu', \n",
    "        'kernel_regularizer':regularizers.l2(l2_sigma)#, \n",
    "        #'kernel_initializer':'random_uniform', \n",
    "        #'bias_initializer':'random_uniform' \n",
    "    }\n",
    "    args = { **fc_args, 'padding': 'same' }\n",
    "    #args = { **fc_args }\n",
    "    \n",
    "    # Create model\n",
    "    model = Sequential()\n",
    "    model.add(Conv2D(16, (3, 3), input_shape=(image_width, image_height, 3), **args))\n",
    "    model.add(BatchNormalization())\n",
    "    model.add(Conv2D(16, (3, 3), **args))\n",
    "    model.add(MaxPooling2D(pool_size=(2, 2)))\n",
    "    model.add(BatchNormalization())\n",
    "    model.add(Conv2D(32, (3, 3), **args))\n",
    "    model.add(BatchNormalization())\n",
    "    model.add(Conv2D(32, (3, 3), **args))\n",
    "    model.add(MaxPooling2D(pool_size=(2, 2)))\n",
    "    model.add(BatchNormalization())\n",
    "    model.add(Conv2D(64, (3, 3), **args))\n",
    "    model.add(BatchNormalization())\n",
    "    model.add(Conv2D(64, (3, 3), **args))\n",
    "    model.add(MaxPooling2D(pool_size=(2, 2)))\n",
    "    model.add(BatchNormalization())\n",
    "    model.add(Flatten())\n",
    "    model.add(Dense(32, **fc_args))\n",
    "    model.add(Dropout(0.4))\n",
    "    model.add(BatchNormalization())\n",
    "    model.add(Dense(32, **fc_args))\n",
    "    model.add(Dropout(0.4))\n",
    "    model.add(BatchNormalization())\n",
    "    model.add(Dense(1, activation='sigmoid', kernel_regularizer=regularizers.l2(l2_sigma)))\n",
    "    \n",
    "    \n",
    "    from keras.optimizers import Adam, SGD\n",
    "    opt = Adam(lr=0.001, decay=0.005)\n",
    "    #opt = SGD(momentum=0.9, nesterov=True)\n",
    "    # Compile model\n",
    "    model.compile(loss='binary_crossentropy', optimizer=opt, metrics=['accuracy'])\n",
    "    return model\n",
    "\n",
    "#es_cb = keras.callbacks.EarlyStopping(monitor='val_acc', patience=5)\n",
    "th_model = third_model()\n",
    "print(th_model.summary())\n",
    "th_hist = th_model.fit_generator(\n",
    "    train_generator,\n",
    "    epochs=30,\n",
    "    validation_data=validation_generator,\n",
    "    #steps_per_epoch=80,\n",
    "    shuffle=True,\n",
    "    verbose=1,\n",
    "    #callbacks=[es_cb]\n",
    ")"
   ]
  },
  {
   "cell_type": "code",
   "execution_count": 40,
   "metadata": {},
   "outputs": [],
   "source": [
    "# TODO: Remove cell\n",
    "th_hist_hist = th_hist.history\n",
    "with open('best_model_history', 'wb') as file_pi:\n",
    "    pickle.dump(th_hist_hist, file_pi)"
   ]
  },
  {
   "cell_type": "markdown",
   "metadata": {
    "deletable": false,
    "editable": false,
    "nbgrader": {
     "checksum": "3ed8d707a3e3e3e2dc6e09630da26d02",
     "grade": false,
     "grade_id": "cell-d033937b5a8b9875",
     "locked": true,
     "schema_version": 1,
     "solution": false
    }
   },
   "source": [
    "Create one figure with two axes. In one of them, plot the loss in the training and the validation datasets. In the other one, plot the accuracy in the training and validation datasets."
   ]
  },
  {
   "cell_type": "code",
   "execution_count": 38,
   "metadata": {
    "deletable": false,
    "nbgrader": {
     "checksum": "88f944698dc9dc353e1933fe16b6de87",
     "grade": true,
     "grade_id": "cell-3df999674672de47",
     "locked": false,
     "points": 0,
     "schema_version": 1,
     "solution": true
    }
   },
   "outputs": [
    {
     "data": {
      "image/png": "[encoded data removed]",
      "text/plain": [
       "<Figure size 1080x360 with 2 Axes>"
      ]
     },
     "metadata": {},
     "output_type": "display_data"
    }
   ],
   "source": [
    "plt.figure(figsize=(15,5))\n",
    "\n",
    "# Loss\n",
    "plt.subplot(121)\n",
    "plt.plot(th_hist.history['loss'])\n",
    "plt.plot(th_hist.history['val_loss'])\n",
    "plt.title('Loss over epochs')\n",
    "plt.ylabel('Loss')\n",
    "plt.xlabel('Epoch')\n",
    "plt.legend(['train', 'val'], loc='upper right')\n",
    "\n",
    "# Accuracy\n",
    "plt.subplot(122)\n",
    "plt.plot(th_hist.history['acc'])\n",
    "plt.plot(th_hist.history['val_acc'])\n",
    "plt.title('Accuracy over epochs')\n",
    "plt.ylabel('Accuracy')\n",
    "plt.xlabel('Epoch')\n",
    "plt.legend(['train', 'val'], loc='upper left')\n",
    "\n",
    "plt.show()"
   ]
  },
  {
   "cell_type": "markdown",
   "metadata": {
    "deletable": false,
    "editable": false,
    "nbgrader": {
     "checksum": "69f51481b462b089daee7f896bad2cc3",
     "grade": false,
     "grade_id": "cell-c67bcc4fbec1808e",
     "locked": true,
     "schema_version": 1,
     "solution": false
    }
   },
   "source": [
    "[Save your model](https://keras.io/getting-started/faq/#how-can-i-save-a-keras-model) to disk as a HDF5 file (the architecture, weights and optimizer state). This is simply so you can use it again easily in the later parts of the notebook, without having to keep it in memory or re-training it. The actual `.h5` files you create are not relevant to your ping-pong submission."
   ]
  },
  {
   "cell_type": "code",
   "execution_count": 39,
   "metadata": {},
   "outputs": [],
   "source": [
    "th_model.save('best_model.h5')"
   ]
  },
  {
   "cell_type": "markdown",
   "metadata": {
    "deletable": false,
    "editable": false,
    "nbgrader": {
     "checksum": "f560cd87a745d9931d137a0224adb847",
     "grade": false,
     "grade_id": "cell-25f9cc8d17491d0d",
     "locked": true,
     "schema_version": 1,
     "solution": false
    }
   },
   "source": [
    "---\n",
    "## 5. Transfer Learning"
   ]
  },
  {
   "cell_type": "markdown",
   "metadata": {
    "deletable": false,
    "editable": false,
    "nbgrader": {
     "checksum": "2f9adb5c8ce6970840bc5d256e74ca69",
     "grade": false,
     "grade_id": "cell-cf9b347fc3ee9255",
     "locked": true,
     "schema_version": 1,
     "solution": false
    }
   },
   "source": [
    "Now, instead of trying to come up with a good architecture for this task, we'll use the VGG16 architecture, but with the top layers removed (the fully connected + classification layers). We'll substitute them with a single fully connected layer, and a classification layer that makes sense for our problem.\n",
    "\n",
    "However, this model has a very high capacity, and will probably suffer a lot from overfitting if we try to train it from scratch, using only our small subset of data. Instead, we'll start the optimization with the weights obtained after training VGG16 on the ImageNet dataset.\n",
    "\n",
    "Start by loading the VGG16 model without the top layers, from the `applications` submodule from Keras. Make sure to also load the weights obtained from the ImageNet pretraining."
   ]
  },
  {
   "cell_type": "code",
   "execution_count": 57,
   "metadata": {
    "deletable": false,
    "nbgrader": {
     "checksum": "984428d972274a469334141d07c8666a",
     "grade": true,
     "grade_id": "cell-01ebc4c9c306b985",
     "locked": false,
     "points": 0,
     "schema_version": 1,
     "solution": true
    }
   },
   "outputs": [],
   "source": [
    "# YOUR CODE HERE\n",
    "from keras.applications.vgg16 import VGG16\n",
    "vgg_model = VGG16(include_top=False, weights='imagenet', input_shape=(image_width, image_height, 3), pooling='max')"
   ]
  },
  {
   "cell_type": "markdown",
   "metadata": {
    "deletable": false,
    "editable": false,
    "nbgrader": {
     "checksum": "ee2e7869aeb45bf734d52c7559ab6cb6",
     "grade": false,
     "grade_id": "cell-faed8047ef25a60d",
     "locked": true,
     "schema_version": 1,
     "solution": false
    }
   },
   "source": [
    "Create a new model with the layers you want to add on top of VGG. The kernels and bias in these layers should be initialized randomly."
   ]
  },
  {
   "cell_type": "code",
   "execution_count": 58,
   "metadata": {
    "deletable": false,
    "nbgrader": {
     "checksum": "a22c7aa185d3eca27d8722755b0a41a1",
     "grade": true,
     "grade_id": "cell-56cb37360051a638",
     "locked": false,
     "points": 1,
     "schema_version": 1,
     "solution": true
    }
   },
   "outputs": [],
   "source": [
    "# YOUR CODE HERE\n",
    "model = Sequential()\n",
    "model.add(Dense(256, activation='relu', kernel_initializer='random_uniform', bias_initializer='random_uniform'))\n",
    "model.add(Dense(1, activation='sigmoid', kernel_initializer='random_uniform', bias_initializer='random_uniform'))"
   ]
  },
  {
   "cell_type": "markdown",
   "metadata": {
    "deletable": false,
    "editable": false,
    "nbgrader": {
     "checksum": "ff49bf63789cfb3023f59b7ff1de074b",
     "grade": false,
     "grade_id": "cell-d746f9eb61e3ea44",
     "locked": true,
     "schema_version": 1,
     "solution": false
    }
   },
   "source": [
    "Now add the new model on top of VGG.\n",
    "\n",
    "Tip:\n",
    "- The VGG model you loaded from the `applications` submodule is from the [`Model`](https://keras.io/models/model/) class, not the `Sequential` class, so it doesn't have some methods you're used to (like `add`, for instance). It might be helpful to read [this introduction to the Model class](https://keras.io/getting-started/functional-api-guide/)."
   ]
  },
  {
   "cell_type": "code",
   "execution_count": 59,
   "metadata": {
    "deletable": false,
    "nbgrader": {
     "checksum": "642f3cbea497868385adff16643091c4",
     "grade": true,
     "grade_id": "cell-76e4aad7fbcf5d05",
     "locked": false,
     "points": 0,
     "schema_version": 1,
     "solution": true
    }
   },
   "outputs": [],
   "source": [
    "# YOUR CODE HERE\n",
    "from keras.models import Model\n",
    "trans_model = Model(inputs=vgg_model.input, outputs=model(vgg_model.output))"
   ]
  },
  {
   "cell_type": "markdown",
   "metadata": {
    "deletable": false,
    "editable": false,
    "nbgrader": {
     "checksum": "e80006261cee156aafe6aac9408f2678",
     "grade": false,
     "grade_id": "cell-f76d1a7f6280af0d",
     "locked": true,
     "schema_version": 1,
     "solution": false
    }
   },
   "source": [
    "### 5.1 Using VGG features"
   ]
  },
  {
   "cell_type": "markdown",
   "metadata": {
    "deletable": false,
    "editable": false,
    "nbgrader": {
     "checksum": "2b12c99269787356513640faa3528233",
     "grade": false,
     "grade_id": "cell-270f8ec140ddfba3",
     "locked": true,
     "schema_version": 1,
     "solution": false
    }
   },
   "source": [
    "Now we're almost ready to train the new model. However, since the top layers of this architecture are being initialized randomly, it's sometimes possible for them to generate large gradients that can wreck the pretraining of the bottom layers. To avoid this, freeze all the VGG layers in your architecture (i.e. signal to the optimizer that these should not be changed during optimization) by setting the `trainable` attribute of them to `False`."
   ]
  },
  {
   "cell_type": "code",
   "execution_count": 60,
   "metadata": {
    "deletable": false,
    "nbgrader": {
     "checksum": "072f414eabdbed6bd1f0baa8e855e48f",
     "grade": true,
     "grade_id": "cell-bfb58ea46c31df0a",
     "locked": false,
     "points": 0,
     "schema_version": 1,
     "solution": true
    }
   },
   "outputs": [],
   "source": [
    "# YOUR CODE HERE\n",
    "for layer in vgg_model.layers:\n",
    "    layer.trainable = False"
   ]
  },
  {
   "cell_type": "markdown",
   "metadata": {
    "deletable": false,
    "editable": false,
    "nbgrader": {
     "checksum": "669e85a9b10286b41f6b40837f009d45",
     "grade": false,
     "grade_id": "cell-b508ede3d760a86b",
     "locked": true,
     "schema_version": 1,
     "solution": false
    }
   },
   "source": [
    "Create the callbacks (if any) you would like to use, compile the model and train it."
   ]
  },
  {
   "cell_type": "code",
   "execution_count": 61,
   "metadata": {
    "deletable": false,
    "nbgrader": {
     "checksum": "9c8cccd2e638d17af85d50f45cb05ee3",
     "grade": true,
     "grade_id": "cell-5a025e60545ca151",
     "locked": false,
     "points": 1,
     "schema_version": 1,
     "solution": true
    }
   },
   "outputs": [
    {
     "name": "stdout",
     "output_type": "stream",
     "text": [
      "Epoch 1/30\n",
      "110/110 [==============================] - 24s 220ms/step - loss: 0.4772 - acc: 0.7547 - val_loss: 0.4161 - val_acc: 0.8033\n",
      "Epoch 2/30\n",
      "110/110 [==============================] - 21s 191ms/step - loss: 0.3591 - acc: 0.8391 - val_loss: 0.3576 - val_acc: 0.8353\n",
      "Epoch 3/30\n",
      "110/110 [==============================] - 24s 215ms/step - loss: 0.3397 - acc: 0.8446 - val_loss: 0.4216 - val_acc: 0.8073\n",
      "Epoch 4/30\n",
      "110/110 [==============================] - 24s 220ms/step - loss: 0.3238 - acc: 0.8507 - val_loss: 0.3818 - val_acc: 0.8293\n",
      "Epoch 5/30\n",
      "110/110 [==============================] - 24s 214ms/step - loss: 0.3164 - acc: 0.8633 - val_loss: 0.3621 - val_acc: 0.8333\n",
      "Epoch 6/30\n",
      "110/110 [==============================] - 20s 185ms/step - loss: 0.2974 - acc: 0.8697 - val_loss: 0.3565 - val_acc: 0.8367\n",
      "Epoch 7/30\n",
      "110/110 [==============================] - 24s 219ms/step - loss: 0.2857 - acc: 0.8734 - val_loss: 0.3565 - val_acc: 0.8393\n",
      "Epoch 8/30\n",
      "110/110 [==============================] - 22s 198ms/step - loss: 0.2771 - acc: 0.8749 - val_loss: 0.3663 - val_acc: 0.8353\n",
      "Epoch 9/30\n",
      "110/110 [==============================] - 22s 196ms/step - loss: 0.2676 - acc: 0.8812 - val_loss: 0.3700 - val_acc: 0.8380\n",
      "Epoch 10/30\n",
      "110/110 [==============================] - 21s 191ms/step - loss: 0.2682 - acc: 0.8788 - val_loss: 0.3820 - val_acc: 0.8253\n",
      "Epoch 11/30\n",
      "110/110 [==============================] - 21s 190ms/step - loss: 0.2486 - acc: 0.8924 - val_loss: 0.3707 - val_acc: 0.8387\n",
      "Epoch 12/30\n",
      "110/110 [==============================] - 31s 283ms/step - loss: 0.2461 - acc: 0.8943 - val_loss: 0.4116 - val_acc: 0.8227\n",
      "Epoch 13/30\n",
      "110/110 [==============================] - 34s 307ms/step - loss: 0.2276 - acc: 0.8958 - val_loss: 0.3941 - val_acc: 0.8313\n",
      "Epoch 14/30\n",
      "110/110 [==============================] - 26s 241ms/step - loss: 0.2143 - acc: 0.9103 - val_loss: 0.4135 - val_acc: 0.8227\n",
      "Epoch 15/30\n",
      "110/110 [==============================] - 23s 213ms/step - loss: 0.2062 - acc: 0.9074 - val_loss: 0.4012 - val_acc: 0.8300\n",
      "Epoch 16/30\n",
      "110/110 [==============================] - 24s 220ms/step - loss: 0.1868 - acc: 0.9225 - val_loss: 0.3926 - val_acc: 0.8393\n",
      "Epoch 17/30\n",
      "110/110 [==============================] - 27s 250ms/step - loss: 0.1937 - acc: 0.9197 - val_loss: 0.3967 - val_acc: 0.8333\n",
      "Epoch 18/30\n",
      "110/110 [==============================] - 39s 352ms/step - loss: 0.1571 - acc: 0.9386 - val_loss: 0.4123 - val_acc: 0.8307\n",
      "Epoch 19/30\n",
      "110/110 [==============================] - 29s 265ms/step - loss: 0.1441 - acc: 0.9453 - val_loss: 0.4406 - val_acc: 0.8320\n",
      "Epoch 20/30\n",
      "110/110 [==============================] - 28s 253ms/step - loss: 0.1341 - acc: 0.9503 - val_loss: 0.4535 - val_acc: 0.8300\n",
      "Epoch 21/30\n",
      "110/110 [==============================] - 31s 284ms/step - loss: 0.1192 - acc: 0.9597 - val_loss: 0.4584 - val_acc: 0.8353\n",
      "Epoch 22/30\n",
      "110/110 [==============================] - 36s 328ms/step - loss: 0.1073 - acc: 0.9639 - val_loss: 0.4694 - val_acc: 0.8273\n",
      "Epoch 23/30\n",
      "110/110 [==============================] - 31s 283ms/step - loss: 0.0931 - acc: 0.9716 - val_loss: 0.4792 - val_acc: 0.8180\n",
      "Epoch 24/30\n",
      "110/110 [==============================] - 29s 265ms/step - loss: 0.0829 - acc: 0.9778 - val_loss: 0.5080 - val_acc: 0.8293\n",
      "Epoch 25/30\n",
      "110/110 [==============================] - 65s 593ms/step - loss: 0.0760 - acc: 0.9810 - val_loss: 0.5214 - val_acc: 0.8300\n",
      "Epoch 26/30\n",
      "110/110 [==============================] - 65s 590ms/step - loss: 0.0639 - acc: 0.9869 - val_loss: 0.5389 - val_acc: 0.8280\n",
      "Epoch 27/30\n",
      "110/110 [==============================] - 65s 586ms/step - loss: 0.0655 - acc: 0.9838 - val_loss: 0.5448 - val_acc: 0.8287\n",
      "Epoch 28/30\n",
      "110/110 [==============================] - 60s 548ms/step - loss: 0.0500 - acc: 0.9918 - val_loss: 0.5746 - val_acc: 0.8280\n",
      "Epoch 29/30\n",
      "110/110 [==============================] - 61s 557ms/step - loss: 0.0476 - acc: 0.9901 - val_loss: 0.5781 - val_acc: 0.8267\n",
      "Epoch 30/30\n",
      "110/110 [==============================] - 38s 348ms/step - loss: 0.0371 - acc: 0.9952 - val_loss: 0.6204 - val_acc: 0.8280\n"
     ]
    }
   ],
   "source": [
    "# YOUR CODE HERE\n",
    "tb_callback = keras.callbacks.TensorBoard(log_dir='./Graph', histogram_freq=0, write_graph=True, write_images=True)\n",
    "\n",
    "trans_model.compile(loss='binary_crossentropy', optimizer='adam', metrics=['accuracy'])\n",
    "# TODO: Maybe use 256x256 since image-net is based on that resolution\n",
    "trans_hist = trans_model.fit_generator(\n",
    "    train_generator,\n",
    "    epochs=30,\n",
    "    validation_data=validation_generator,\n",
    "    callbacks=[tb_callback]\n",
    ")\n",
    "\n",
    "with open('trainHistoryDict', 'wb') as file_pi:\n",
    "    pickle.dump(trans_hist.history, file_pi)"
   ]
  },
  {
   "cell_type": "code",
   "execution_count": 66,
   "metadata": {},
   "outputs": [],
   "source": [
    "# TODO: REMOVE CELL\n",
    "with open('trans_hist', 'wb') as file_pi:\n",
    "    pickle.dump(trans_hist.history, file_pi)"
   ]
  },
  {
   "cell_type": "code",
   "execution_count": 54,
   "metadata": {},
   "outputs": [
    {
     "name": "stdout",
     "output_type": "stream",
     "text": [
      "{'history': {'val_loss': [0.3745703294277191, 0.35828236571947736, 0.37720147395133974, 0.3520467630227407, 0.3685813508828481, 0.35844285027186074, 0.3631246215502421, 0.3655493771235148, 0.3688125697771708, 0.3706889265775681], 'val_acc': [0.8286666668256124, 0.8346666671435038, 0.8233333328564961, 0.839333333492279, 0.8366666668256124, 0.8426666663487752, 0.8366666668256124, 0.8373333338101705, 0.838, 0.8359999995231628], 'loss': [0.4610722586768014, 0.35449089210374013, 0.3243688054425376, 0.3123673162800925, 0.302514810528074, 0.2971729284014021, 0.28436584322793146, 0.2754806027412415, 0.2650818750858307, 0.24792847185475486], 'acc': [0.774571428503309, 0.8345714285714285, 0.8568571428571429, 0.8602857143538338, 0.862, 0.8677142857824053, 0.8734285714966911, 0.8820000000681196, 0.8845714285033089, 0.8911428570747375]}}\n"
     ]
    }
   ],
   "source": [
    "trans_hist = dict()\n",
    "with open('trans_hist', 'rb') as file_pi:\n",
    "    trans_hist['history'] = pickle.load(file_pi)\n",
    "print(trans_hist)"
   ]
  },
  {
   "cell_type": "markdown",
   "metadata": {
    "deletable": false,
    "editable": false,
    "nbgrader": {
     "checksum": "f4045831d222640d7baf44a285c3de97",
     "grade": false,
     "grade_id": "cell-ad79e1aa5c4a6185",
     "locked": true,
     "schema_version": 1,
     "solution": false
    }
   },
   "source": [
    "Create one figure with two axes. In one of them, plot the loss in the training and the validation datasets. In the other one, plot the accuracy in the training and validation datasets."
   ]
  },
  {
   "cell_type": "code",
   "execution_count": 63,
   "metadata": {
    "deletable": false,
    "nbgrader": {
     "checksum": "99986b7bbdfb6b78c25112751969d11f",
     "grade": true,
     "grade_id": "cell-f17c882b2a09dee7",
     "locked": false,
     "points": 0,
     "schema_version": 1,
     "solution": true
    }
   },
   "outputs": [
    {
     "data": {
      "image/png": "[encoded data removed]",
      "text/plain": [
       "<Figure size 1080x360 with 2 Axes>"
      ]
     },
     "metadata": {},
     "output_type": "display_data"
    }
   ],
   "source": [
    "plt.figure(figsize=(15,5))\n",
    "\n",
    "# Loss\n",
    "plt.subplot(121)\n",
    "plt.plot(trans_hist.history['loss'])\n",
    "plt.plot(trans_hist.history['val_loss'])\n",
    "plt.title('Loss over epochs')\n",
    "plt.ylabel('Loss')\n",
    "plt.xlabel('Epoch')\n",
    "plt.legend(['Training', 'Validation'], loc='upper left')\n",
    "\n",
    "# Accuracy\n",
    "plt.subplot(122)\n",
    "plt.plot(trans_hist.history['acc'])\n",
    "plt.plot(trans_hist.history['val_acc'])\n",
    "plt.title('Accuracy over epochs')\n",
    "plt.ylabel('Accuracy')\n",
    "plt.xlabel('Epoch')\n",
    "plt.legend(['Training', 'Validation'], loc='upper left')\n",
    "\n",
    "plt.show()"
   ]
  },
  {
   "cell_type": "markdown",
   "metadata": {
    "deletable": false,
    "editable": false,
    "nbgrader": {
     "checksum": "7e3c0eb41e650ec3e30733ab5ea488d1",
     "grade": false,
     "grade_id": "cell-779d477ffe1ebbf6",
     "locked": true,
     "schema_version": 1,
     "solution": false
    }
   },
   "source": [
    "How does the model perform, compared to the model obtained in step 4? Create one plot with the training accuracy and another with the validation accuracy of the two scenarios."
   ]
  },
  {
   "cell_type": "code",
   "execution_count": 65,
   "metadata": {
    "deletable": false,
    "nbgrader": {
     "checksum": "873c045fa2e6f22815a90194ed2785f3",
     "grade": true,
     "grade_id": "cell-e3e3990ba39bea67",
     "locked": false,
     "points": 0,
     "schema_version": 1,
     "solution": true
    }
   },
   "outputs": [
    {
     "data": {
      "image/png": "[encoded data removed]",
      "text/plain": [
       "<Figure size 1080x360 with 2 Axes>"
      ]
     },
     "metadata": {},
     "output_type": "display_data"
    }
   ],
   "source": [
    "# YOUR CODE HERE\n",
    "\n",
    "# Train accuracy\n",
    "plt.figure(figsize=(15,5))\n",
    "plt.subplot(121)\n",
    "plt.plot(th_hist.history['acc'])\n",
    "plt.plot(trans_hist.history['acc'])\n",
    "plt.title('Training accuracy')\n",
    "plt.ylabel('Accuracy')\n",
    "plt.xlabel('Epoch')\n",
    "plt.legend(['Best', 'Transfer'], loc='upper right')\n",
    "\n",
    "# Val accuracy\n",
    "plt.subplot(122)\n",
    "plt.plot(th_hist.history['val_acc'])\n",
    "plt.plot(trans_hist.history['val_acc'])\n",
    "plt.title('Validation accuracy')\n",
    "plt.ylabel('Accuracy')\n",
    "plt.xlabel('Epoch')\n",
    "plt.legend(['Best', 'Transfer'], loc='upper left')\n",
    "\n",
    "plt.show()"
   ]
  },
  {
   "cell_type": "markdown",
   "metadata": {
    "deletable": false,
    "editable": false,
    "nbgrader": {
     "checksum": "49a22cb7fa7d4bc6335f5185d419101e",
     "grade": false,
     "grade_id": "cell-b84dd461d5ddcc8d",
     "locked": true,
     "schema_version": 1,
     "solution": false
    }
   },
   "source": [
    "Compare these results. Which approach worked best, starting from scratch or doing transfer learning? Explain how you evaluated this."
   ]
  },
  {
   "cell_type": "markdown",
   "metadata": {
    "deletable": false,
    "nbgrader": {
     "checksum": "58110ed91d1dc2020287d64755fafddd",
     "grade": true,
     "grade_id": "cell-f9e1a6a643946cd2",
     "locked": false,
     "points": 0.25,
     "schema_version": 1,
     "solution": true
    }
   },
   "source": [
    "**Your answer:** In these graphs, we can see without any tuning and with just a single fully connected on top of the transfer model, we get very good results. The best model is slightly better in the end, but as we can see the transfer model just overfits immediatly, so with some more work the transfer learning version will most likely outperform the from scratch version."
   ]
  },
  {
   "cell_type": "markdown",
   "metadata": {
    "deletable": false,
    "editable": false,
    "nbgrader": {
     "checksum": "f1d1fd0b9a00091e75a5bd0eaa19a8bf",
     "grade": false,
     "grade_id": "cell-c8afb448c67da5f8",
     "locked": true,
     "schema_version": 1,
     "solution": false
    }
   },
   "source": [
    "What are the main differences between the ImageNet dataset and the Dogs vs Cats dataset we used?"
   ]
  },
  {
   "cell_type": "markdown",
   "metadata": {
    "deletable": false,
    "nbgrader": {
     "checksum": "36cc539d06e12eba46249e29640ce6a1",
     "grade": true,
     "grade_id": "cell-2be321b63232ae01",
     "locked": false,
     "points": 0.25,
     "schema_version": 1,
     "solution": true
    }
   },
   "source": [
    "**Your answer:** One obvious difference is that ImageNet contains way more classes. These a classes are also (subjectively) more diverse than cats and dogs. Another really important difference is that ImageNet contains way more data, which makes it possible to use more complex models."
   ]
  },
  {
   "cell_type": "markdown",
   "metadata": {
    "deletable": false,
    "editable": false,
    "nbgrader": {
     "checksum": "1c0b0eae153b6076ca628a773203df42",
     "grade": false,
     "grade_id": "cell-71a8b8de004f6e57",
     "locked": true,
     "schema_version": 1,
     "solution": false
    }
   },
   "source": [
    "Even though there are considerable differences between these datasets, why is it that transfer learning is still a good idea?"
   ]
  },
  {
   "cell_type": "markdown",
   "metadata": {
    "deletable": false,
    "nbgrader": {
     "checksum": "7a990cd4099df100c9dc733bee0db608",
     "grade": true,
     "grade_id": "cell-655d00face15a862",
     "locked": false,
     "points": 0.25,
     "schema_version": 1,
     "solution": true
    }
   },
   "source": [
    "**Your answer:** First of all (as said above) Imagenet contains lots of diverse images, which allows us to use a much more complex model. The reason the transfer makes sense and yields good results right away is that a lot of the images contain cats and dogs and other animals in various environments. The network has therefore learned to extract features that can be used to detect and differentiate these types of images. It is of course still a good idea to retrain the entire network a little bit to fine-tune it this specific dataset."
   ]
  },
  {
   "cell_type": "markdown",
   "metadata": {
    "deletable": false,
    "editable": false,
    "nbgrader": {
     "checksum": "2d9425a067d87ef11d206088e82bb3c7",
     "grade": false,
     "grade_id": "cell-19785940b9624d2c",
     "locked": true,
     "schema_version": 1,
     "solution": false
    }
   },
   "source": [
    "In which scenario would transfer learning be unsuitable?"
   ]
  },
  {
   "cell_type": "markdown",
   "metadata": {
    "deletable": false,
    "nbgrader": {
     "checksum": "8ab35c98ddf1c98635eb188a197fd885",
     "grade": true,
     "grade_id": "cell-e79df7472ff5506a",
     "locked": false,
     "points": 0.25,
     "schema_version": 1,
     "solution": true
    }
   },
   "source": [
    "**Your answer:** If the data is completely differnet. For example a model trained to classify different kinds of houses would not transfer very well to for example cats. Also it's not enough to make sure that the classes are similar for both networks. The context, environment, etc. can also make transfer learning unsuitable. For example, a network that has been trained to classify animals from perfectly still, clear and zoomed in pictures, might not transfer well to classifying animals in motion captured by a drone flying overhead. "
   ]
  },
  {
   "cell_type": "markdown",
   "metadata": {
    "deletable": false,
    "editable": false,
    "nbgrader": {
     "checksum": "bbea73c6a2825f9b3e730907ba3ae71f",
     "grade": false,
     "grade_id": "cell-111f2b1d28919293",
     "locked": true,
     "schema_version": 1,
     "solution": false
    }
   },
   "source": [
    "Save the model to a HDF5 file."
   ]
  },
  {
   "cell_type": "code",
   "execution_count": 67,
   "metadata": {},
   "outputs": [],
   "source": [
    "trans_model.save('trans_learning_top_only.h5')"
   ]
  },
  {
   "cell_type": "markdown",
   "metadata": {
    "deletable": false,
    "editable": false,
    "nbgrader": {
     "checksum": "8b8007704893660e8abc0c87b9028923",
     "grade": false,
     "grade_id": "cell-544a73726bebe121",
     "locked": true,
     "schema_version": 1,
     "solution": false
    }
   },
   "source": [
    "### 5.2 Fine-tuning"
   ]
  },
  {
   "cell_type": "markdown",
   "metadata": {
    "deletable": false,
    "editable": false,
    "nbgrader": {
     "checksum": "6b5a44cfe68ff124f447339454f4f3ee",
     "grade": false,
     "grade_id": "cell-1ee9ebc87fd3358e",
     "locked": true,
     "schema_version": 1,
     "solution": false
    }
   },
   "source": [
    "Now that we have a better starting point for the top layers, we can train the entire network. Unfreeze the bottom layers.\n",
    "\n",
    "Tip:\n",
    "- Always recompile your model after changing anything in it!"
   ]
  },
  {
   "cell_type": "code",
   "execution_count": 19,
   "metadata": {
    "deletable": false,
    "nbgrader": {
     "checksum": "412d6cf989068c151bd4b3f4085e7194",
     "grade": true,
     "grade_id": "cell-3918c2cdd9817f7e",
     "locked": false,
     "points": 0,
     "schema_version": 1,
     "solution": true
    }
   },
   "outputs": [],
   "source": [
    "fine_trans_model = load_model('trans_learning_top_only.h5')\n",
    "\n",
    "# YOUR CODE HERE\n",
    "for layer in fine_trans_model.layers:\n",
    "    layer.trainable = True"
   ]
  },
  {
   "cell_type": "markdown",
   "metadata": {
    "deletable": false,
    "editable": false,
    "nbgrader": {
     "checksum": "ff2a177a54d2f9830995848f8de425b8",
     "grade": false,
     "grade_id": "cell-80fa8c89f1b262f1",
     "locked": true,
     "schema_version": 1,
     "solution": false
    }
   },
   "source": [
    "Create the callbacks (if any) you would like to use for this training here, compile the model, and train it.\n",
    "\n",
    "Tip:\n",
    "- Even though we do have a decent starting point for the optimization, it's still possible that a bad hyper-parameter choice wrecks the preinitialization. Make sure to use a small learning rate for this step."
   ]
  },
  {
   "cell_type": "code",
   "execution_count": 20,
   "metadata": {
    "deletable": false,
    "nbgrader": {
     "checksum": "6814e17803f83868b0fd75d82f421ec3",
     "grade": true,
     "grade_id": "cell-594c6039216461e5",
     "locked": false,
     "points": 1,
     "schema_version": 1,
     "solution": true
    }
   },
   "outputs": [
    {
     "name": "stdout",
     "output_type": "stream",
     "text": [
      "Epoch 1/15\n",
      "110/110 [==============================] - 52s 477ms/step - loss: 0.5494 - acc: 0.7250 - val_loss: 0.3539 - val_acc: 0.8493\n",
      "Epoch 2/15\n",
      "110/110 [==============================] - 50s 454ms/step - loss: 0.2845 - acc: 0.8726 - val_loss: 0.3757 - val_acc: 0.8413\n",
      "Epoch 3/15\n",
      "110/110 [==============================] - 52s 469ms/step - loss: 0.1670 - acc: 0.9321 - val_loss: 0.2981 - val_acc: 0.8807\n",
      "Epoch 4/15\n",
      "110/110 [==============================] - 57s 521ms/step - loss: 0.1147 - acc: 0.9520 - val_loss: 0.2626 - val_acc: 0.8947\n",
      "Epoch 5/15\n",
      "110/110 [==============================] - 57s 514ms/step - loss: 0.0522 - acc: 0.9824 - val_loss: 0.2732 - val_acc: 0.9247\n",
      "Epoch 6/15\n",
      "110/110 [==============================] - 58s 526ms/step - loss: 0.0319 - acc: 0.9903 - val_loss: 0.3130 - val_acc: 0.9127\n",
      "Epoch 7/15\n",
      "110/110 [==============================] - 57s 521ms/step - loss: 0.0500 - acc: 0.9807 - val_loss: 0.3387 - val_acc: 0.9107\n",
      "Epoch 8/15\n",
      "110/110 [==============================] - 57s 518ms/step - loss: 0.0674 - acc: 0.9754 - val_loss: 0.3637 - val_acc: 0.8993\n",
      "Epoch 9/15\n",
      "110/110 [==============================] - 57s 517ms/step - loss: 0.0223 - acc: 0.9926 - val_loss: 0.3452 - val_acc: 0.9047\n",
      "Epoch 10/15\n",
      "110/110 [==============================] - 57s 519ms/step - loss: 0.0209 - acc: 0.9918 - val_loss: 0.3253 - val_acc: 0.9147\n",
      "Epoch 11/15\n",
      "110/110 [==============================] - 57s 519ms/step - loss: 0.0101 - acc: 0.9972 - val_loss: 0.3585 - val_acc: 0.9240\n",
      "Epoch 12/15\n",
      "110/110 [==============================] - 57s 516ms/step - loss: 0.0010 - acc: 0.9997 - val_loss: 0.4280 - val_acc: 0.9213\n",
      "Epoch 13/15\n",
      "110/110 [==============================] - 57s 517ms/step - loss: 0.0650 - acc: 0.9771 - val_loss: 0.2666 - val_acc: 0.9067\n",
      "Epoch 14/15\n",
      "110/110 [==============================] - 57s 522ms/step - loss: 0.0313 - acc: 0.9886 - val_loss: 0.2586 - val_acc: 0.9187\n",
      "Epoch 15/15\n",
      "110/110 [==============================] - 57s 521ms/step - loss: 0.0043 - acc: 0.9991 - val_loss: 0.3594 - val_acc: 0.9073\n"
     ]
    }
   ],
   "source": [
    "# YOUR CODE HERE\n",
    "from keras.optimizers import Adam\n",
    "opt = Adam(lr=0.0001)\n",
    "fine_trans_model.compile(loss='binary_crossentropy', optimizer=opt, metrics=['accuracy'])\n",
    "\n",
    "tb_callback = keras.callbacks.TensorBoard(log_dir='./Graph', histogram_freq=0, write_graph=True, write_images=True)\n",
    "\n",
    "trans_fine_hist = fine_trans_model.fit_generator(\n",
    "    train_generator,\n",
    "    epochs=15,\n",
    "    validation_data=validation_generator,\n",
    "    callbacks=[tb_callback]\n",
    ")\n",
    "\n",
    "with open('trans_fine_hist', 'wb') as file_pi:\n",
    "        pickle.dump(trans_fine_hist.history, file_pi)\n"
   ]
  },
  {
   "cell_type": "markdown",
   "metadata": {
    "deletable": false,
    "editable": false,
    "nbgrader": {
     "checksum": "653d29a729772d9cb73bfbe24fc76065",
     "grade": false,
     "grade_id": "cell-5dc3e388a41da3ed",
     "locked": true,
     "schema_version": 1,
     "solution": false
    }
   },
   "source": [
    "How does the model perform, compared to the model trained with freezed layers? Create one plot with the training accuracy and another with the validation accuracy of the two scenarios."
   ]
  },
  {
   "cell_type": "code",
   "execution_count": 21,
   "metadata": {
    "deletable": false,
    "nbgrader": {
     "checksum": "b7b2e69e2ffc7f5bff07ba62225b4cee",
     "grade": true,
     "grade_id": "cell-7edb12ee397ec817",
     "locked": false,
     "points": 0,
     "schema_version": 1,
     "solution": true
    }
   },
   "outputs": [
    {
     "data": {
      "image/png": "[encoded data removed]",
      "text/plain": [
       "<Figure size 1080x360 with 2 Axes>"
      ]
     },
     "metadata": {},
     "output_type": "display_data"
    }
   ],
   "source": [
    "# YOUR CODE HERE\n",
    "\n",
    "# Train accuracy\n",
    "plt.figure(figsize=(15,5))\n",
    "plt.subplot(121)\n",
    "plt.plot(trans_hist.history['acc'])\n",
    "plt.plot(trans_fine_hist.history['acc'])\n",
    "plt.title('Training accuracy')\n",
    "plt.ylabel('Accuracy')\n",
    "plt.xlabel('Epoch')\n",
    "plt.legend(['Freezed', 'Unfreezed'], loc='upper right')\n",
    "\n",
    "# Val accuracy\n",
    "plt.subplot(122)\n",
    "plt.plot(trans_hist.history['val_acc'])\n",
    "plt.plot(trans_fine_hist.history['val_acc'])\n",
    "plt.title('Validation accuracy')\n",
    "plt.ylabel('Accuracy')\n",
    "plt.xlabel('Epoch')\n",
    "plt.legend(['Freezed', 'Unfreezed'], loc='upper left')\n",
    "\n",
    "plt.show()"
   ]
  },
  {
   "cell_type": "markdown",
   "metadata": {
    "deletable": false,
    "editable": false,
    "nbgrader": {
     "checksum": "c14cf7017869bbc745425dc4c9d4a7a9",
     "grade": false,
     "grade_id": "cell-5dae528a81d5ff24",
     "locked": true,
     "schema_version": 1,
     "solution": false
    }
   },
   "source": [
    "Did the model's performance improve? Why (why not)?"
   ]
  },
  {
   "cell_type": "markdown",
   "metadata": {
    "deletable": false,
    "nbgrader": {
     "checksum": "69dfca588131944b0e9825a1532de432",
     "grade": true,
     "grade_id": "cell-0f4a5edca490320e",
     "locked": false,
     "points": 1,
     "schema_version": 1,
     "solution": true
    }
   },
   "source": [
    "**Your answer:** Yes, it improved significantly on both the training and validation data. However, it seems like the model is overfitting somewhat, considering the very high accuracy on the training data."
   ]
  },
  {
   "cell_type": "markdown",
   "metadata": {
    "deletable": false,
    "editable": false,
    "nbgrader": {
     "checksum": "b4d50b78d6ec765ce5b0f627873fa5e3",
     "grade": false,
     "grade_id": "cell-4ed3967e4f6c5f7f",
     "locked": true,
     "schema_version": 1,
     "solution": false
    }
   },
   "source": [
    "Save the model to a HDF5 file."
   ]
  },
  {
   "cell_type": "code",
   "execution_count": 22,
   "metadata": {},
   "outputs": [],
   "source": [
    "fine_trans_model.save('trans_learning_full.h5')"
   ]
  },
  {
   "cell_type": "markdown",
   "metadata": {
    "deletable": false,
    "editable": false,
    "nbgrader": {
     "checksum": "512bd4321118a59c1774035ffde4470d",
     "grade": false,
     "grade_id": "cell-56908ee1e60aa411",
     "locked": true,
     "schema_version": 1,
     "solution": false
    }
   },
   "source": [
    "### 5.3 Improving the top model (optional)"
   ]
  },
  {
   "cell_type": "markdown",
   "metadata": {
    "deletable": false,
    "editable": false,
    "nbgrader": {
     "checksum": "a63ad0cdc8ae853a3b9b6ebd16904186",
     "grade": false,
     "grade_id": "cell-3c8d8e5ab949ee35",
     "locked": true,
     "schema_version": 1,
     "solution": false
    }
   },
   "source": [
    "Improve the architecture for the layers you add on top of VGG16. Try different ideas, and consider comparing them using tensorboard. When you're happy with one architecture, copy it in the cell below and train it here."
   ]
  },
  {
   "cell_type": "code",
   "execution_count": 25,
   "metadata": {
    "deletable": false,
    "nbgrader": {
     "checksum": "8e78037ef98c08769cd8104d7541cb51",
     "grade": true,
     "grade_id": "cell-22d09c8401d84b61",
     "locked": false,
     "points": 1,
     "schema_version": 1,
     "solution": true
    }
   },
   "outputs": [
    {
     "name": "stdout",
     "output_type": "stream",
     "text": [
      "Found 3500 images belonging to 2 classes.\n",
      "Found 1500 images belonging to 2 classes.\n",
      "Epoch 1/50\n",
      "55/55 [==============================] - 14s 248ms/step - loss: 6.8261 - acc: 0.7963 - val_loss: 6.5008 - val_acc: 0.8940\n",
      "Epoch 2/50\n",
      "55/55 [==============================] - 11s 197ms/step - loss: 6.3675 - acc: 0.8685 - val_loss: 6.1906 - val_acc: 0.9020\n",
      "Epoch 3/50\n",
      "55/55 [==============================] - 11s 200ms/step - loss: 6.0678 - acc: 0.8930 - val_loss: 5.9462 - val_acc: 0.9047\n",
      "Epoch 4/50\n",
      "55/55 [==============================] - 11s 199ms/step - loss: 5.8262 - acc: 0.9083 - val_loss: 5.7423 - val_acc: 0.9127\n",
      "Epoch 5/50\n",
      "55/55 [==============================] - 11s 199ms/step - loss: 5.6293 - acc: 0.9160 - val_loss: 5.5747 - val_acc: 0.9120\n",
      "Epoch 6/50\n",
      "55/55 [==============================] - 11s 199ms/step - loss: 5.4546 - acc: 0.9259 - val_loss: 5.4290 - val_acc: 0.9100\n",
      "Epoch 7/50\n",
      "55/55 [==============================] - 11s 202ms/step - loss: 5.3204 - acc: 0.9272 - val_loss: 5.3018 - val_acc: 0.9107\n",
      "Epoch 8/50\n",
      "55/55 [==============================] - 11s 201ms/step - loss: 5.1801 - acc: 0.9330 - val_loss: 5.1873 - val_acc: 0.9133\n",
      "Epoch 9/50\n",
      "55/55 [==============================] - 11s 198ms/step - loss: 5.0689 - acc: 0.9339 - val_loss: 5.0856 - val_acc: 0.9120\n",
      "Epoch 10/50\n",
      "55/55 [==============================] - 11s 198ms/step - loss: 4.9593 - acc: 0.9413 - val_loss: 4.9927 - val_acc: 0.9113\n",
      "Epoch 11/50\n",
      "55/55 [==============================] - 11s 198ms/step - loss: 4.8673 - acc: 0.9430 - val_loss: 4.9072 - val_acc: 0.9093\n",
      "Epoch 12/50\n",
      "55/55 [==============================] - 11s 198ms/step - loss: 4.7713 - acc: 0.9558 - val_loss: 4.8283 - val_acc: 0.9127\n",
      "Epoch 13/50\n",
      "55/55 [==============================] - 11s 198ms/step - loss: 4.6981 - acc: 0.9520 - val_loss: 4.7583 - val_acc: 0.9113\n",
      "Epoch 14/50\n",
      "55/55 [==============================] - 11s 198ms/step - loss: 4.6265 - acc: 0.9482 - val_loss: 4.6910 - val_acc: 0.9087\n",
      "Epoch 15/50\n",
      "55/55 [==============================] - 11s 198ms/step - loss: 4.5589 - acc: 0.9529 - val_loss: 4.6287 - val_acc: 0.9093\n",
      "Epoch 16/50\n",
      "55/55 [==============================] - 11s 198ms/step - loss: 4.4963 - acc: 0.9506 - val_loss: 4.5700 - val_acc: 0.9053\n",
      "Epoch 17/50\n",
      "55/55 [==============================] - 11s 198ms/step - loss: 4.4311 - acc: 0.9570 - val_loss: 4.5157 - val_acc: 0.9060\n",
      "Epoch 18/50\n",
      "55/55 [==============================] - 11s 198ms/step - loss: 4.3782 - acc: 0.9559 - val_loss: 4.4643 - val_acc: 0.9080\n",
      "Epoch 19/50\n",
      "55/55 [==============================] - 11s 198ms/step - loss: 4.3311 - acc: 0.9553 - val_loss: 4.4153 - val_acc: 0.9080\n",
      "Epoch 20/50\n",
      "55/55 [==============================] - 11s 198ms/step - loss: 4.2708 - acc: 0.9642 - val_loss: 4.3698 - val_acc: 0.9080\n",
      "Epoch 21/50\n",
      "55/55 [==============================] - 11s 198ms/step - loss: 4.2184 - acc: 0.9648 - val_loss: 4.3271 - val_acc: 0.9080\n",
      "Epoch 22/50\n",
      "55/55 [==============================] - 11s 198ms/step - loss: 4.1789 - acc: 0.9591 - val_loss: 4.2844 - val_acc: 0.9087\n",
      "Epoch 23/50\n",
      "55/55 [==============================] - 11s 198ms/step - loss: 4.1367 - acc: 0.9629 - val_loss: 4.2445 - val_acc: 0.9093\n",
      "Epoch 24/50\n",
      "55/55 [==============================] - 11s 198ms/step - loss: 4.0935 - acc: 0.9637 - val_loss: 4.2074 - val_acc: 0.9100\n",
      "Epoch 25/50\n",
      "55/55 [==============================] - 11s 198ms/step - loss: 4.0567 - acc: 0.9639 - val_loss: 4.1715 - val_acc: 0.9067\n",
      "Epoch 26/50\n",
      "55/55 [==============================] - 11s 198ms/step - loss: 4.0143 - acc: 0.9670 - val_loss: 4.1375 - val_acc: 0.9093\n",
      "Epoch 27/50\n",
      "55/55 [==============================] - 11s 198ms/step - loss: 3.9770 - acc: 0.9685 - val_loss: 4.1031 - val_acc: 0.9053\n",
      "Epoch 28/50\n",
      "55/55 [==============================] - 11s 198ms/step - loss: 3.9463 - acc: 0.9672 - val_loss: 4.0712 - val_acc: 0.9080\n",
      "Epoch 29/50\n",
      "55/55 [==============================] - 11s 198ms/step - loss: 3.8985 - acc: 0.9756 - val_loss: 4.0411 - val_acc: 0.9067\n",
      "Epoch 30/50\n",
      "55/55 [==============================] - 11s 198ms/step - loss: 3.8741 - acc: 0.9718 - val_loss: 4.0117 - val_acc: 0.9067\n",
      "Epoch 31/50\n",
      "55/55 [==============================] - 11s 198ms/step - loss: 3.8443 - acc: 0.9712 - val_loss: 3.9828 - val_acc: 0.9073\n",
      "Epoch 32/50\n",
      "55/55 [==============================] - 11s 198ms/step - loss: 3.8146 - acc: 0.9733 - val_loss: 3.9549 - val_acc: 0.9073\n",
      "Epoch 33/50\n",
      "55/55 [==============================] - 11s 198ms/step - loss: 3.7805 - acc: 0.9726 - val_loss: 3.9269 - val_acc: 0.9087\n",
      "Epoch 34/50\n",
      "55/55 [==============================] - 11s 198ms/step - loss: 3.7522 - acc: 0.9733 - val_loss: 3.9010 - val_acc: 0.9073\n",
      "Epoch 35/50\n",
      "55/55 [==============================] - 11s 202ms/step - loss: 3.7242 - acc: 0.9764 - val_loss: 3.8758 - val_acc: 0.9060\n",
      "Epoch 36/50\n",
      "55/55 [==============================] - 11s 199ms/step - loss: 3.7000 - acc: 0.9787 - val_loss: 3.8517 - val_acc: 0.9073\n",
      "Epoch 37/50\n",
      "55/55 [==============================] - 11s 198ms/step - loss: 3.6825 - acc: 0.9681 - val_loss: 3.8269 - val_acc: 0.9060\n",
      "Epoch 38/50\n",
      "55/55 [==============================] - 11s 198ms/step - loss: 3.6510 - acc: 0.9749 - val_loss: 3.8036 - val_acc: 0.9060\n",
      "Epoch 39/50\n",
      "55/55 [==============================] - 11s 198ms/step - loss: 3.6232 - acc: 0.9760 - val_loss: 3.7806 - val_acc: 0.9053\n",
      "Epoch 40/50\n",
      "55/55 [==============================] - 11s 198ms/step - loss: 3.5930 - acc: 0.9792 - val_loss: 3.7590 - val_acc: 0.9060\n",
      "Epoch 41/50\n",
      "55/55 [==============================] - 11s 199ms/step - loss: 3.5740 - acc: 0.9756 - val_loss: 3.7377 - val_acc: 0.9060\n",
      "Epoch 42/50\n",
      "55/55 [==============================] - 11s 198ms/step - loss: 3.5600 - acc: 0.9742 - val_loss: 3.7165 - val_acc: 0.9027\n",
      "Epoch 43/50\n",
      "55/55 [==============================] - 11s 198ms/step - loss: 3.5262 - acc: 0.9804 - val_loss: 3.6959 - val_acc: 0.9033\n",
      "Epoch 44/50\n",
      "55/55 [==============================] - 11s 198ms/step - loss: 3.5139 - acc: 0.9760 - val_loss: 3.6755 - val_acc: 0.9040\n",
      "Epoch 45/50\n",
      "55/55 [==============================] - 11s 198ms/step - loss: 3.4850 - acc: 0.9793 - val_loss: 3.6564 - val_acc: 0.9040\n",
      "Epoch 46/50\n",
      "55/55 [==============================] - 11s 198ms/step - loss: 3.4751 - acc: 0.9763 - val_loss: 3.6364 - val_acc: 0.9033\n",
      "Epoch 47/50\n",
      "55/55 [==============================] - 11s 198ms/step - loss: 3.4503 - acc: 0.9749 - val_loss: 3.6172 - val_acc: 0.9040\n",
      "Epoch 48/50\n",
      "55/55 [==============================] - 11s 198ms/step - loss: 3.4343 - acc: 0.9786 - val_loss: 3.5991 - val_acc: 0.9047\n",
      "Epoch 49/50\n",
      "55/55 [==============================] - 11s 198ms/step - loss: 3.4122 - acc: 0.9773 - val_loss: 3.5817 - val_acc: 0.9047\n",
      "Epoch 50/50\n",
      "55/55 [==============================] - 11s 198ms/step - loss: 3.3975 - acc: 0.9757 - val_loss: 3.5644 - val_acc: 0.9040\n",
      "Epoch 1/50\n",
      "55/55 [==============================] - 31s 569ms/step - loss: 3.3979 - acc: 0.9638 - val_loss: 3.4367 - val_acc: 0.9380\n",
      "Epoch 2/50\n",
      "55/55 [==============================] - 25s 453ms/step - loss: 3.2928 - acc: 0.9851 - val_loss: 3.3892 - val_acc: 0.9427\n",
      "Epoch 3/50\n",
      "55/55 [==============================] - 25s 454ms/step - loss: 3.2258 - acc: 0.9926 - val_loss: 3.3156 - val_acc: 0.9493\n",
      "Epoch 4/50\n",
      "55/55 [==============================] - 25s 454ms/step - loss: 3.1602 - acc: 0.9957 - val_loss: 3.2572 - val_acc: 0.9520\n",
      "Epoch 5/50\n",
      "55/55 [==============================] - 25s 453ms/step - loss: 3.0965 - acc: 0.9963 - val_loss: 3.1965 - val_acc: 0.9507\n",
      "Epoch 6/50\n",
      "55/55 [==============================] - 25s 453ms/step - loss: 3.0260 - acc: 0.9994 - val_loss: 3.1253 - val_acc: 0.9533\n",
      "Epoch 7/50\n",
      "55/55 [==============================] - 25s 455ms/step - loss: 2.9586 - acc: 0.9982 - val_loss: 3.0333 - val_acc: 0.9547\n",
      "Epoch 8/50\n",
      "55/55 [==============================] - 25s 454ms/step - loss: 2.8872 - acc: 0.9985 - val_loss: 2.9722 - val_acc: 0.9573\n",
      "Epoch 9/50\n",
      "55/55 [==============================] - 25s 454ms/step - loss: 2.8126 - acc: 0.9994 - val_loss: 2.8909 - val_acc: 0.9620\n",
      "Epoch 10/50\n",
      "55/55 [==============================] - 25s 454ms/step - loss: 2.7369 - acc: 0.9997 - val_loss: 2.8174 - val_acc: 0.9587\n",
      "Epoch 11/50\n",
      "55/55 [==============================] - 25s 453ms/step - loss: 2.6603 - acc: 1.0000 - val_loss: 2.7503 - val_acc: 0.9593\n",
      "Epoch 12/50\n",
      "55/55 [==============================] - 25s 454ms/step - loss: 2.5840 - acc: 0.9994 - val_loss: 2.6621 - val_acc: 0.9587\n",
      "Epoch 13/50\n",
      "55/55 [==============================] - 25s 453ms/step - loss: 2.5073 - acc: 0.9989 - val_loss: 2.5756 - val_acc: 0.9653\n",
      "Epoch 14/50\n",
      "55/55 [==============================] - 25s 454ms/step - loss: 2.4312 - acc: 0.9989 - val_loss: 2.5324 - val_acc: 0.9540\n",
      "Epoch 15/50\n",
      "55/55 [==============================] - 25s 454ms/step - loss: 2.3548 - acc: 0.9980 - val_loss: 2.4318 - val_acc: 0.9587\n",
      "Epoch 16/50\n",
      "55/55 [==============================] - 25s 454ms/step - loss: 2.2804 - acc: 0.9989 - val_loss: 2.3696 - val_acc: 0.9593\n",
      "Epoch 17/50\n",
      "55/55 [==============================] - 25s 453ms/step - loss: 2.2037 - acc: 0.9991 - val_loss: 2.2844 - val_acc: 0.9573\n",
      "Epoch 18/50\n",
      "55/55 [==============================] - 25s 454ms/step - loss: 2.1314 - acc: 0.9994 - val_loss: 2.2203 - val_acc: 0.9540\n",
      "Epoch 19/50\n",
      "55/55 [==============================] - 25s 454ms/step - loss: 2.0581 - acc: 1.0000 - val_loss: 2.1445 - val_acc: 0.9600\n",
      "Epoch 20/50\n",
      "55/55 [==============================] - 25s 454ms/step - loss: 1.9861 - acc: 1.0000 - val_loss: 2.0807 - val_acc: 0.9593\n",
      "Epoch 21/50\n",
      "55/55 [==============================] - 25s 454ms/step - loss: 1.9157 - acc: 1.0000 - val_loss: 1.9951 - val_acc: 0.9573\n",
      "Epoch 22/50\n",
      "55/55 [==============================] - 25s 455ms/step - loss: 1.8455 - acc: 0.9997 - val_loss: 1.9380 - val_acc: 0.9587\n",
      "Epoch 23/50\n",
      "55/55 [==============================] - 25s 453ms/step - loss: 1.7767 - acc: 1.0000 - val_loss: 1.8495 - val_acc: 0.9627\n",
      "Epoch 24/50\n",
      "55/55 [==============================] - 25s 454ms/step - loss: 1.7085 - acc: 1.0000 - val_loss: 1.7793 - val_acc: 0.9653\n",
      "Epoch 25/50\n",
      "55/55 [==============================] - 25s 453ms/step - loss: 1.6418 - acc: 1.0000 - val_loss: 1.7097 - val_acc: 0.9667\n",
      "Epoch 26/50\n",
      "55/55 [==============================] - 25s 453ms/step - loss: 1.5759 - acc: 1.0000 - val_loss: 1.6461 - val_acc: 0.9647\n",
      "Epoch 27/50\n",
      "55/55 [==============================] - 25s 453ms/step - loss: 1.5114 - acc: 1.0000 - val_loss: 1.5916 - val_acc: 0.9607\n",
      "Epoch 28/50\n",
      "55/55 [==============================] - 25s 453ms/step - loss: 1.4480 - acc: 1.0000 - val_loss: 1.5236 - val_acc: 0.9647\n",
      "Epoch 29/50\n",
      "55/55 [==============================] - 25s 454ms/step - loss: 1.3863 - acc: 1.0000 - val_loss: 1.4632 - val_acc: 0.9620\n",
      "Epoch 30/50\n",
      "55/55 [==============================] - 25s 453ms/step - loss: 1.3258 - acc: 1.0000 - val_loss: 1.4082 - val_acc: 0.9613\n",
      "Epoch 31/50\n",
      "55/55 [==============================] - 25s 453ms/step - loss: 1.2667 - acc: 1.0000 - val_loss: 1.3520 - val_acc: 0.9620\n",
      "Epoch 32/50\n",
      "55/55 [==============================] - 25s 453ms/step - loss: 1.2091 - acc: 1.0000 - val_loss: 1.2892 - val_acc: 0.9627\n",
      "Epoch 33/50\n",
      "55/55 [==============================] - 25s 454ms/step - loss: 1.1533 - acc: 1.0000 - val_loss: 1.2379 - val_acc: 0.9607\n",
      "Epoch 34/50\n",
      "55/55 [==============================] - 25s 454ms/step - loss: 1.0988 - acc: 1.0000 - val_loss: 1.1711 - val_acc: 0.9660\n",
      "Epoch 35/50\n",
      "55/55 [==============================] - 25s 454ms/step - loss: 1.0458 - acc: 1.0000 - val_loss: 1.1172 - val_acc: 0.9667\n",
      "Epoch 36/50\n",
      "55/55 [==============================] - 25s 453ms/step - loss: 0.9947 - acc: 1.0000 - val_loss: 1.0722 - val_acc: 0.9627\n",
      "Epoch 37/50\n",
      "55/55 [==============================] - 25s 453ms/step - loss: 0.9452 - acc: 1.0000 - val_loss: 1.0165 - val_acc: 0.9680\n",
      "Epoch 38/50\n",
      "55/55 [==============================] - 25s 454ms/step - loss: 0.8971 - acc: 1.0000 - val_loss: 0.9729 - val_acc: 0.9660\n",
      "Epoch 39/50\n",
      "55/55 [==============================] - 25s 453ms/step - loss: 0.8507 - acc: 1.0000 - val_loss: 0.9267 - val_acc: 0.9667\n",
      "Epoch 40/50\n",
      "55/55 [==============================] - 25s 453ms/step - loss: 0.8061 - acc: 1.0000 - val_loss: 0.8797 - val_acc: 0.9667\n",
      "Epoch 41/50\n",
      "55/55 [==============================] - 25s 453ms/step - loss: 0.7631 - acc: 1.0000 - val_loss: 0.8283 - val_acc: 0.9700\n",
      "Epoch 42/50\n",
      "55/55 [==============================] - 25s 453ms/step - loss: 0.7217 - acc: 1.0000 - val_loss: 0.7956 - val_acc: 0.9653\n",
      "Epoch 43/50\n",
      "55/55 [==============================] - 25s 453ms/step - loss: 0.6825 - acc: 1.0000 - val_loss: 0.7960 - val_acc: 0.9600\n",
      "Epoch 44/50\n",
      "55/55 [==============================] - 25s 453ms/step - loss: 0.6444 - acc: 1.0000 - val_loss: 0.7455 - val_acc: 0.9593\n",
      "Epoch 45/50\n",
      "55/55 [==============================] - 25s 454ms/step - loss: 0.6084 - acc: 1.0000 - val_loss: 0.7034 - val_acc: 0.9633\n",
      "Epoch 46/50\n",
      "55/55 [==============================] - 25s 453ms/step - loss: 0.5751 - acc: 0.9997 - val_loss: 0.6729 - val_acc: 0.9647\n",
      "Epoch 47/50\n",
      "55/55 [==============================] - 25s 454ms/step - loss: 0.5673 - acc: 0.9920 - val_loss: 2.1334 - val_acc: 0.6733\n",
      "Epoch 48/50\n",
      "55/55 [==============================] - 25s 454ms/step - loss: 0.6600 - acc: 0.9580 - val_loss: 1.1551 - val_acc: 0.8933\n",
      "Epoch 49/50\n",
      "55/55 [==============================] - 25s 454ms/step - loss: 0.5744 - acc: 0.9807 - val_loss: 0.6599 - val_acc: 0.9633\n",
      "Epoch 50/50\n",
      "55/55 [==============================] - 25s 453ms/step - loss: 0.5356 - acc: 0.9916 - val_loss: 0.6228 - val_acc: 0.9673\n"
     ]
    }
   ],
   "source": [
    "#############################################\n",
    "# New generator with larger image size\n",
    "image_width = 200\n",
    "image_height = 200\n",
    "train_datagen = ImageDataGenerator(rescale=1./255)\n",
    "val_datagen = ImageDataGenerator(rescale=1./255)\n",
    "train_generator = train_datagen.flow_from_directory(\n",
    "        train_path,\n",
    "        target_size=(image_width, image_height),\n",
    "        batch_size=64,\n",
    "        shuffle=True,\n",
    "        class_mode='binary')\n",
    "validation_generator = val_datagen.flow_from_directory(\n",
    "        val_path,\n",
    "        target_size=(image_width, image_height),\n",
    "        batch_size=64,\n",
    "        shuffle=True,\n",
    "        class_mode='binary')\n",
    "\n",
    "#############################################\n",
    "# New top model\n",
    "reg = regularizers.l2(0.005)\n",
    "args = { 'kernel_initializer':'random_uniform', 'bias_initializer':'random_uniform', 'kernel_regularizer': reg }\n",
    "top_model = Sequential()\n",
    "top_model.add(BatchNormalization())\n",
    "top_model.add(Dense(1024, activation='relu', **args))\n",
    "top_model.add(BatchNormalization())\n",
    "top_model.add(Dropout(0.4))\n",
    "top_model.add(Dense(1024, activation='relu', **args))\n",
    "top_model.add(BatchNormalization())\n",
    "top_model.add(Dropout(0.4))\n",
    "top_model.add(Dense(1, activation='sigmoid', **args))\n",
    "\n",
    "vgg_model = keras.applications.vgg16.VGG16(include_top=False, weights='imagenet', input_shape=(image_width, image_height, 3), pooling='max')\n",
    "model = Model(inputs=vgg_model.input, outputs=top_model(vgg_model.output))\n",
    "\n",
    "for layer in vgg_model.layers:\n",
    "    layer.trainable = False\n",
    "    \n",
    "es_callback = EarlyStopping(monitor='val_loss', patience=3)\n",
    "\n",
    "opt = Adam(lr=0.0001, decay=0.01)\n",
    "model.compile(optimizer=opt, loss='binary_crossentropy', metrics=['accuracy'])\n",
    "trans_best_hist_locked = model.fit_generator(\n",
    "    train_generator,\n",
    "    epochs=50,\n",
    "    validation_data=validation_generator,\n",
    "    verbose=1,\n",
    "    callbacks=[es_callback]\n",
    ")\n",
    "\n",
    "for layer in vgg_model.layers:\n",
    "    layer.trainable = True\n",
    "\n",
    "opt = Adam(lr=0.00002)\n",
    "model.compile(optimizer=opt, loss='binary_crossentropy', metrics=['accuracy'])\n",
    "trans_best_hist_unlocked = model.fit_generator(\n",
    "    train_generator,\n",
    "    epochs=50,\n",
    "    validation_data=validation_generator,\n",
    "    verbose=1,\n",
    "    callbacks=[es_callback]\n",
    ")\n",
    "\n",
    "with open('hist_trans_best_locked', 'wb') as file_pi:\n",
    "        pickle.dump(trans_best_hist_locked.history, file_pi)\n",
    "\n",
    "with open('hist_trans_best_unlocked', 'wb') as file_pi:\n",
    "        pickle.dump(trans_best_hist_unlocked.history, file_pi)\n"
   ]
  },
  {
   "cell_type": "markdown",
   "metadata": {
    "deletable": false,
    "editable": false,
    "nbgrader": {
     "checksum": "d040142833a356a7174729a7a8aadb1c",
     "grade": false,
     "grade_id": "cell-48933baad6c5afeb",
     "locked": true,
     "schema_version": 1,
     "solution": false
    }
   },
   "source": [
    "How does the model perform, compared to the model trained in step 5.2? Create one plot with the training accuracy and another with the validation accuracy of the two scenarios."
   ]
  },
  {
   "cell_type": "code",
   "execution_count": null,
   "metadata": {
    "deletable": false,
    "nbgrader": {
     "checksum": "0bac4e10ca36850170af565096710d1c",
     "grade": true,
     "grade_id": "cell-7cb62a04916a848e",
     "locked": false,
     "points": 0,
     "schema_version": 1,
     "solution": true
    }
   },
   "outputs": [
    {
     "data": {
      "image/png": "[encoded data removed]",
      "text/plain": [
       "<Figure size 1080x360 with 2 Axes>"
      ]
     },
     "metadata": {
      "needs_background": "light"
     },
     "output_type": "display_data"
    }
   ],
   "source": [
    "with open('trans_fine_hist', 'rb') as file_pi:\n",
    "        trans_fine_hist = pickle.load(file_pi)\n",
    "        \n",
    "with open('hist_trans_best_unlocked', 'rb') as file_pi:\n",
    "        trans_best_hist_unlocked = pickle.load(file_pi)\n",
    "\n",
    "plt.figure(figsize=(15,5))\n",
    "\n",
    "# Training accuracy\n",
    "plt.subplot(121)\n",
    "plt.plot(trans_fine_hist['acc'])\n",
    "plt.plot(trans_best_hist_unlocked['acc'])\n",
    "plt.title('Training accuracy')\n",
    "plt.ylabel('Accuracy')\n",
    "plt.xlabel('Epoch')\n",
    "plt.legend(['Unfreezed', 'Fine tuned'], loc='upper left')\n",
    "\n",
    "# Validation accuracy\n",
    "plt.subplot(122)\n",
    "plt.plot(trans_fine_hist['val_acc'])\n",
    "plt.plot(trans_best_hist_unlocked['val_acc'])\n",
    "plt.title('Validation accuracy')\n",
    "plt.ylabel('Accuracy')\n",
    "plt.xlabel('Epoch')\n",
    "plt.legend(['Unfreezed', 'Fine tuned'], loc='upper left')\n",
    "\n",
    "plt.show()"
   ]
  },
  {
   "cell_type": "markdown",
   "metadata": {
    "deletable": false,
    "editable": false,
    "nbgrader": {
     "checksum": "729c848775b6b7c20775151cffe38bfa",
     "grade": false,
     "grade_id": "cell-8bbfa3e11e2dfff9",
     "locked": true,
     "schema_version": 1,
     "solution": false
    }
   },
   "source": [
    "Save the model to a HDF5 file."
   ]
  },
  {
   "cell_type": "code",
   "execution_count": null,
   "metadata": {},
   "outputs": [],
   "source": [
    "model.save('best_trans_learning.h5')"
   ]
  },
  {
   "cell_type": "markdown",
   "metadata": {
    "deletable": false,
    "editable": false,
    "nbgrader": {
     "checksum": "4b192e3a46581dd6f57326ddb21ee49c",
     "grade": false,
     "grade_id": "cell-ad0efbac33de5a65",
     "locked": true,
     "schema_version": 1,
     "solution": false
    }
   },
   "source": [
    "## 6. Final training"
   ]
  },
  {
   "cell_type": "markdown",
   "metadata": {
    "deletable": false,
    "editable": false,
    "nbgrader": {
     "checksum": "6e460754d2c0f05f0e79ae982a3fe3d3",
     "grade": false,
     "grade_id": "cell-cf811afdac96843b",
     "locked": true,
     "schema_version": 1,
     "solution": false
    }
   },
   "source": [
    "Now we'll train the model that achieved the best performance so far using the entire dataset.\n",
    "\n",
    "**Note**: start the optimization with the weights you obtained training in the smaller subset, i.e. *not* from scratch."
   ]
  },
  {
   "cell_type": "markdown",
   "metadata": {
    "deletable": false,
    "editable": false,
    "nbgrader": {
     "checksum": "10fada090ba96eae198313ce7e9f1e22",
     "grade": false,
     "grade_id": "cell-3ae2a65188e4ac74",
     "locked": true,
     "schema_version": 1,
     "solution": false
    }
   },
   "source": [
    "First, create two new data generators, one for training samples and one for validation samples. This time, they'll load data from the folders for the entire dataset."
   ]
  },
  {
   "cell_type": "code",
   "execution_count": null,
   "metadata": {
    "deletable": false,
    "nbgrader": {
     "checksum": "62bfd99d9d34913ada18493c74745706",
     "grade": true,
     "grade_id": "cell-64eaa83780f5eac9",
     "locked": false,
     "points": 0,
     "schema_version": 1,
     "solution": true
    }
   },
   "outputs": [
    {
     "name": "stdout",
     "output_type": "stream",
     "text": [
      "Found 22500 images belonging to 2 classes.\n",
      "Found 2500 images belonging to 2 classes.\n"
     ]
    }
   ],
   "source": [
    "\n",
    "train_big_datagen = ImageDataGenerator(rescale=1./255)\n",
    "\n",
    "val_big_datagen = ImageDataGenerator(rescale=1./255)\n",
    "\n",
    "image_width = 200\n",
    "image_height = 200\n",
    "\n",
    "train_generator_big = train_big_datagen.flow_from_directory(\n",
    "        'train',\n",
    "        target_size=(image_width, image_height),\n",
    "        batch_size=64,\n",
    "        class_mode='binary')\n",
    "\n",
    "validation_generator_big = val_big_datagen.flow_from_directory(\n",
    "        'val',\n",
    "        target_size=(image_width, image_height),\n",
    "        batch_size=64,\n",
    "        class_mode='binary')"
   ]
  },
  {
   "cell_type": "markdown",
   "metadata": {
    "deletable": false,
    "editable": false,
    "nbgrader": {
     "checksum": "e7ae11154dee1b18040a35a6990ed284",
     "grade": false,
     "grade_id": "cell-f3f79586de42561b",
     "locked": true,
     "schema_version": 1,
     "solution": false
    }
   },
   "source": [
    "Create the callbacks you would like to use and train your model. This optimization might take a long time, so TensorBoard is advised ;)."
   ]
  },
  {
   "cell_type": "code",
   "execution_count": null,
   "metadata": {
    "deletable": false,
    "nbgrader": {
     "checksum": "bad26172f9b786e6209e418f1ace058e",
     "grade": true,
     "grade_id": "cell-c7dd71a632b5f152",
     "locked": false,
     "points": 2,
     "schema_version": 1,
     "solution": true
    }
   },
   "outputs": [],
   "source": [
    "model = load_model('best_trans_learning.h5')\n",
    "\n",
    "opt = Adam(lr=0.00002, decay=0.01)\n",
    "model.compile(optimizer=opt, loss='binary_crossentropy', metrics=['accuracy'])\n",
    "\n",
    "hist_final = model.fit_generator(\n",
    "        train_generator_big,\n",
    "        epochs=20,\n",
    "        validation_data=validation_generator_big,\n",
    ")\n",
    "\n",
    "with open('hist_final', 'wb') as file_pi:\n",
    "        pickle.dump(hist_final.history, file_pi)\n",
    "\n",
    "model.save('best_full.h5')"
   ]
  },
  {
   "cell_type": "markdown",
   "metadata": {
    "deletable": false,
    "editable": false,
    "nbgrader": {
     "checksum": "d0ab46f558fb4b49f877ca0bae45376b",
     "grade": false,
     "grade_id": "cell-b1861d3a543c6386",
     "locked": true,
     "schema_version": 1,
     "solution": false
    }
   },
   "source": [
    "How does the model perform now when trained on the entire dataset, compared to when only trained on the smaller subset of data? Create one plot with the training accuracy and another with the validation accuracy of the two scenarios."
   ]
  },
  {
   "cell_type": "code",
   "execution_count": null,
   "metadata": {
    "deletable": false,
    "nbgrader": {
     "checksum": "52bacfa672fbc7eca004c87d041e3411",
     "grade": true,
     "grade_id": "cell-ceaac6be60ce36a9",
     "locked": false,
     "points": 0,
     "schema_version": 1,
     "solution": true
    }
   },
   "outputs": [
    {
     "data": {
      "image/png": "[encoded data removed]",
      "text/plain": [
       "<Figure size 1080x360 with 2 Axes>"
      ]
     },
     "metadata": {
      "needs_background": "light"
     },
     "output_type": "display_data"
    }
   ],
   "source": [
    "with open('hist_final', 'rb') as file_pi:\n",
    "        hist_final = pickle.load(file_pi)\n",
    "\n",
    "with open('hist_trans_best_unlocked', 'rb') as file_pi:\n",
    "        trans_best_hist_unlocked = pickle.load(file_pi)\n",
    "\n",
    "# Train accuracy\n",
    "plt.figure(figsize=(15,5))\n",
    "plt.subplot(121)\n",
    "plt.plot(trans_best_hist_unlocked['acc'])\n",
    "plt.plot(hist_final['acc'])\n",
    "plt.title('Training accuracy')\n",
    "plt.ylabel('accuracy')\n",
    "plt.xlabel('epoch')\n",
    "plt.legend(['Small Data', 'Large Data'], loc='upper right')\n",
    "\n",
    "# Val accuracy\n",
    "plt.subplot(122)\n",
    "plt.plot(trans_best_hist_unlocked['val_acc'])\n",
    "plt.plot(hist_final['val_acc'])\n",
    "plt.title('Validation accuracy')\n",
    "plt.ylabel('accuracy')\n",
    "plt.xlabel('epoch')\n",
    "plt.legend(['Small Data', 'Large Data'], loc='lower left')\n",
    "\n",
    "plt.show()"
   ]
  },
  {
   "cell_type": "markdown",
   "metadata": {
    "deletable": false,
    "editable": false,
    "nbgrader": {
     "checksum": "fa3d1d443f52a1489ac198ca29ddd0c9",
     "grade": false,
     "grade_id": "cell-b38092b08c150e7d",
     "locked": true,
     "schema_version": 1,
     "solution": false
    }
   },
   "source": [
    "What can you conclude from these plots?"
   ]
  },
  {
   "cell_type": "markdown",
   "metadata": {
    "deletable": false,
    "nbgrader": {
     "checksum": "3a4a7b569af9834b505cc8d5daffb2d1",
     "grade": true,
     "grade_id": "cell-694a3fbb7f081da8",
     "locked": false,
     "points": 1,
     "schema_version": 1,
     "solution": true
    }
   },
   "source": [
    "**Your answer:** (fill in here)"
   ]
  },
  {
   "cell_type": "markdown",
   "metadata": {
    "deletable": false,
    "editable": false,
    "nbgrader": {
     "checksum": "da9293dc623b91059c547544b509ad7b",
     "grade": false,
     "grade_id": "cell-5e1ddfbfceb4d194",
     "locked": true,
     "schema_version": 1,
     "solution": false
    }
   },
   "source": [
    "## 7. Evaluation on test set"
   ]
  },
  {
   "cell_type": "markdown",
   "metadata": {
    "deletable": false,
    "editable": false,
    "nbgrader": {
     "checksum": "cd96692057f0be0c7cb1e9c2769f0991",
     "grade": false,
     "grade_id": "cell-a97630bf5d85363f",
     "locked": true,
     "schema_version": 1,
     "solution": false
    }
   },
   "source": [
    "Now we'll evaluate your final model, obtained in step 6, on the test set. As mentioned before, the samples in the test set are not labeled, so we can't compute any performance metrics ourselves. Instead, we'll create a .csv file containing the predictions for each sample, and submit it to Kaggle for evaluation."
   ]
  },
  {
   "cell_type": "markdown",
   "metadata": {
    "deletable": false,
    "editable": false,
    "nbgrader": {
     "checksum": "891007ea6b998a0bfd810187d1e87208",
     "grade": false,
     "grade_id": "cell-96a8fded54ed7011",
     "locked": true,
     "schema_version": 1,
     "solution": false
    }
   },
   "source": [
    "Compute the predictions for all samples in the test set according to your best model, and save it in a .csv file with the format expected by the competition.\n",
    "\n",
    "Tip:\n",
    "- There is a sample_submission file available for download in the same place where you downloaded the data from. Take a look at it to better understand what is the expected format here.\n",
    "\n",
    "Hints:\n",
    "- The Python module `os` has a `listdir` function, which returns the filenames of all files in a given path.\n",
    "- If you don't know how to create and write to files with Python, Google can help.\n",
    "- Keras has a submodule called `preprocessing.image`, with some handy functions (for instance `load_img` and `img_to_array`)"
   ]
  },
  {
   "cell_type": "code",
   "execution_count": null,
   "metadata": {
    "deletable": false,
    "nbgrader": {
     "checksum": "e235a9ab5690a066143575414247f751",
     "grade": true,
     "grade_id": "cell-cc77ac7849f856e1",
     "locked": false,
     "points": 0,
     "schema_version": 1,
     "solution": true
    }
   },
   "outputs": [],
   "source": [
    "import os\n",
    "from keras.preprocessing.image import load_img, img_to_array\n",
    "\n",
    "model = load_model('best_full.h5')\n",
    "\n",
    "img_width = img_height = 200\n",
    "\n",
    "img_paths = os.listdir('test')\n",
    "img_paths.sort(key=lambda x: int(x.strip('.jpg')))\n",
    "\n",
    "with open('result', 'w') as result_file:\n",
    "    result_file.write(\"id,label\\n\")\n",
    "    for img_path in img_paths:\n",
    "        img = load_img('test/%s' % img_path, target_size=(img_width, img_height))\n",
    "        img_arr = img_to_array(img) / 255\n",
    "        img_arr = img_arr.reshape(1,img_width,img_height,3)\n",
    "        \n",
    "        prediction = model.predict_on_batch(img_arr)\n",
    "        \n",
    "        result_file.write(\"%s,%.10f\\n\" % (img_path.strip('.jpg'), prediction))\n",
    "\n"
   ]
  },
  {
   "cell_type": "markdown",
   "metadata": {
    "deletable": false,
    "editable": false,
    "nbgrader": {
     "checksum": "1e57b252395ed2657e8f39a69dbf4248",
     "grade": false,
     "grade_id": "cell-faf8664f26ff7f4e",
     "locked": true,
     "schema_version": 1,
     "solution": false
    }
   },
   "source": [
    "Now that you created your submission file, submit it to Kaggle for evaluation. The [old competition](https://www.kaggle.com/c/dogs-vs-cats) does not allow submissions any more, so submit your file to the [new one](https://www.kaggle.com/c/dogs-vs-cats-redux-kernels-edition). Kaggle evaluates your submission according to your log-loss score. Which score did you obtain?"
   ]
  },
  {
   "cell_type": "markdown",
   "metadata": {
    "deletable": false,
    "nbgrader": {
     "checksum": "e4a90a8a13658eeb9af3ad05c63220de",
     "grade": true,
     "grade_id": "cell-e951dcec64dec85d",
     "locked": false,
     "points": 2,
     "schema_version": 1,
     "solution": true
    }
   },
   "source": [
    "**Your answer:** (fill in here)"
   ]
  },
  {
   "cell_type": "markdown",
   "metadata": {
    "deletable": false,
    "editable": false,
    "nbgrader": {
     "checksum": "e8a7f3a8236f43994efe29067d7237c2",
     "grade": false,
     "grade_id": "cell-dc362abcfef32eae",
     "locked": true,
     "schema_version": 1,
     "solution": false
    }
   },
   "source": [
    "What was the username you used for this submission?"
   ]
  },
  {
   "cell_type": "markdown",
   "metadata": {
    "deletable": false,
    "nbgrader": {
     "checksum": "8cc61665c676edcd9192df3c15714aa3",
     "grade": true,
     "grade_id": "cell-d519532bb1f957c3",
     "locked": false,
     "points": 0,
     "schema_version": 1,
     "solution": true
    }
   },
   "source": [
    "**Your answer:** (fill in here)"
   ]
  }
 ],
 "metadata": {
  "kernelspec": {
   "display_name": "Python 3",
   "language": "python",
   "name": "python3"
  },
  "language_info": {
   "codemirror_mode": {
    "name": "ipython",
    "version": 3
   },
   "file_extension": ".py",
   "mimetype": "text/x-python",
   "name": "python",
   "nbconvert_exporter": "python",
   "pygments_lexer": "ipython3",
   "version": "3.6.5"
  }
 },
 "nbformat": 4,
 "nbformat_minor": 2
}
